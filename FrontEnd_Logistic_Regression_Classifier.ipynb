{
 "cells": [
  {
   "cell_type": "markdown",
   "metadata": {},
   "source": [
    "# Logistic Regression Classifier\n",
    "Advanced tool for classifying vacuum gauges \n",
    "\n",
    "* [Setup](#setup)\n",
    "    * [Environment](#env)\n",
    "    * [Data Retrieval (illustrative)](#retrieval)\n",
    "    * [Data Normalization (illustrative)](#norm)\n",
    "    * [Data Interpolation (illustrative)](#interpolate)\n",
    "    * [Data Masking (illustrative)](#masking)\n",
    "* [Dataset Creation](#create)\n",
    "    * [Bin Data (illustrative)](#level)\n",
    "    * [Generate Dataset](#gen)\n",
    "    * [Select Dataset](#select)\n",
    "* [Logistic Regression Classifiaton](#logistic)\n",
    "    * [Split Dataset](#split)\n",
    "    * [Train Model (illustrative)](#train)\n",
    "    * [Confusion Matrix (illustrative)](#confusion)\n",
    "    * [Parameter Optimization (illustrative)](#crossvalidate)\n",
    "    * [Manual Optimization (illustrative)](#manuel)\n",
    "    * [Final Evaluation](#eva)\n",
    "* [Use Model](#use)\n",
    "    * [Save Model](#save)\n",
    "    * [Load Model](#load)"
   ]
  },
  {
   "cell_type": "markdown",
   "metadata": {},
   "source": [
    "# <a id='setup'> Setup </a>\n",
    "## <a id='env'>Environment </a>"
   ]
  },
  {
   "cell_type": "code",
   "execution_count": null,
   "metadata": {
    "scrolled": true
   },
   "outputs": [],
   "source": [
    "\n",
    "%run BackEnd_Plotters.ipynb\n",
    "%run BackEnd_DataProcessing.ipynb\n",
    "%run BackEnd_Classifiers.ipynb\n"
   ]
  },
  {
   "cell_type": "markdown",
   "metadata": {},
   "source": [
    "## <a id='retrieval'> Retrieve Data </a>"
   ]
  },
  {
   "cell_type": "code",
   "execution_count": null,
   "metadata": {
    "scrolled": true
   },
   "outputs": [],
   "source": [
    "gauge_id = \"VGPB.4.7L5.R.PR\"\n",
    "fillNo = 2219\n",
    "\n",
    "pressure_readings,\\\n",
    "time_readings,\\\n",
    "beam_time,\\\n",
    "beam_energy = retrieve_gauge_data(gauge_id, fillNo,show_plot=True)\n"
   ]
  },
  {
   "cell_type": "markdown",
   "metadata": {},
   "source": [
    "## <a id='norm'> Data Normalization </a>"
   ]
  },
  {
   "cell_type": "code",
   "execution_count": null,
   "metadata": {
    "scrolled": false
   },
   "outputs": [],
   "source": [
    "pressure_readings,\\\n",
    "beam_energy = normalize_y(time_readings,\n",
    "                          beam_time,\n",
    "                          pressure_readings,\n",
    "                          beam_energy,\n",
    "                          show_plot=True)"
   ]
  },
  {
   "cell_type": "markdown",
   "metadata": {},
   "source": [
    "## <a id=interpolate> Data Interpolation </a>"
   ]
  },
  {
   "cell_type": "code",
   "execution_count": null,
   "metadata": {
    "scrolled": false
   },
   "outputs": [],
   "source": [
    "time_readings,\\\n",
    "pressure_readings,\\\n",
    "beam_time,\\\n",
    "beam_energy = interpolate_readings(pressure_readings, time_readings, beam_time, beam_energy,\n",
    "                                   show_plot=True)\n"
   ]
  },
  {
   "cell_type": "markdown",
   "metadata": {},
   "source": [
    "## <a id='masking'> Data Masking </a>"
   ]
  },
  {
   "cell_type": "code",
   "execution_count": null,
   "metadata": {
    "scrolled": false
   },
   "outputs": [],
   "source": [
    "mask,\\\n",
    "threshold = double_threshold_energy_masking(time_readings, \n",
    "                             beam_time,\n",
    "                             beam_energy,\n",
    "                            show_plot=True)"
   ]
  },
  {
   "cell_type": "markdown",
   "metadata": {},
   "source": [
    "# <a id='create'> Dataset Creation </a>\n",
    "## <a id='level'> Bin the Data </a>\n",
    "Split data into segments and return their averages. <br>\n",
    "These are used as the **feautures** for the Algorithm"
   ]
  },
  {
   "cell_type": "code",
   "execution_count": null,
   "metadata": {},
   "outputs": [],
   "source": [
    "pressure_levels = bin_data(pressure_readings[mask],8)\n",
    "plot_levelled_data(gauge_id, pressure_levels, time_readings[mask],pressure_readings[mask])"
   ]
  },
  {
   "cell_type": "markdown",
   "metadata": {},
   "source": [
    "## <a id='gen'> Generate Datasets </a>\n",
    "Use CSV file catalogue containing probe/gauge information and their ground truth to generate a SciKit Learn dataset ('bunch').\n"
   ]
  },
  {
   "cell_type": "code",
   "execution_count": null,
   "metadata": {
    "scrolled": true
   },
   "outputs": [],
   "source": [
    "\n",
    "balanced_datasets = get_or_create_datasets(\"Balanced\", feature_spec=(1,13), reset=0, verbose=1)\n"
   ]
  },
  {
   "cell_type": "code",
   "execution_count": null,
   "metadata": {
    "scrolled": true
   },
   "outputs": [],
   "source": [
    "for key in balanced_datasets.keys(): \n",
    "    print(\"{0}Balanced Dataset with {2} Features:{1}\".format(color.BOLD,color.END,key))\n",
    "    display(balanced_datasets[key].head())"
   ]
  },
  {
   "cell_type": "code",
   "execution_count": null,
   "metadata": {},
   "outputs": [],
   "source": [
    "\n",
    "representative_datasets = get_or_create_datasets(\"Representative\", feature_spec=(1,13), reset=0, verbose=1)\n"
   ]
  },
  {
   "cell_type": "code",
   "execution_count": null,
   "metadata": {
    "scrolled": true
   },
   "outputs": [],
   "source": [
    "for key in representative_datasets.keys(): \n",
    "    print(\"{0}Representative Dataset with {2} Features:{1}\".format(color.BOLD,color.END,key))\n",
    "    display(representative_datasets[key].head())"
   ]
  },
  {
   "cell_type": "markdown",
   "metadata": {},
   "source": [
    "## <a id=\"select\"> Select Specific Dataset </a>\n",
    "Used for illustrating how the algorithm is prepared step-by-step, for full optimization <br>\n",
    "all loaded datasets can be used to vary the no. of features."
   ]
  },
  {
   "cell_type": "code",
   "execution_count": null,
   "metadata": {},
   "outputs": [],
   "source": [
    "feature_options = representative_datasets.keys()\n",
    "feature_field = widgets.BoundedIntText(\n",
    "    value=4,\n",
    "    min=min(feature_options),\n",
    "    max=max(feature_options),\n",
    "    step=1,\n",
    "    description='No Of Features:',\n",
    ")\n",
    "display(feature_field)"
   ]
  },
  {
   "cell_type": "code",
   "execution_count": null,
   "metadata": {},
   "outputs": [],
   "source": [
    "dataset = representative_datasets[feature_field.value]\n",
    "\n",
    "X,y,lookup = dataset.iloc[:,0:dataset.shape[1]-3],dataset.Response,dataset.iloc[:,-2:]\n",
    "\n",
    "plt.figure()\n",
    "plt.bar(x=['0:Normal','1:Anamolous'],height=[y.value_counts()[0],y.value_counts()[1]],color=['brown','blue'])\n",
    "plt.ylabel(\"Count\")\n",
    "plt.title(\"Frequency of classes in dataset\")\n",
    "plt.show()\n",
    "\n",
    "display(dataset.head())"
   ]
  },
  {
   "cell_type": "markdown",
   "metadata": {},
   "source": [
    "# <a id='logistic'> Logistic Regression Classification </a>\n",
    "## <a id='split'> Setup Training and Testing sets </a>\n",
    "Split the data into a test and training set using a random seed. "
   ]
  },
  {
   "cell_type": "code",
   "execution_count": null,
   "metadata": {},
   "outputs": [],
   "source": [
    "X_train, X_test, X_train_labels, X_test_labels = split_dataset(X,y, seed = 0)"
   ]
  },
  {
   "cell_type": "markdown",
   "metadata": {},
   "source": [
    "# Logistic Regression\n",
    "## Unoptimized Model\n",
    "Complete run through of creation and evaluation of simple logistic regression model.<br>\n",
    "No attempt made to optimize parameters in this section."
   ]
  },
  {
   "cell_type": "markdown",
   "metadata": {},
   "source": [
    "### <a id='train'>Train Model</a>\n",
    "In logistic regression we try to predict a binary variable from a continuous one. <br>\n",
    "The boundary between classes tend to be sharp, hence we try to fit a sigmoid function to our data as seen <br>\n",
    "in the LHS of the image. \n",
    "\n",
    "Much like linear regression, we want to fit a line that best fits the example data. However, <br>\n",
    "since the method of least-squares does not work here since (as we transform to the log-odds space) <br>\n",
    "our values can map to plus or minus infinity. Taking the square of the difference to infinity is insensible.\n",
    "\n",
    "Instead, our algorithm tries to fit a line of 'maximum likelihood' such that the maximum amount of classes are <br>\n",
    "correctly classified. Depending on where a new sample ends up relative to this boundary, we can classify it as <br>\n",
    "expected or unexpected.\n",
    "\n",
    "Note that in our case we tend to deal with higher-dimensional variation of this, since we expect to need more <br> \n",
    "than 1 continous parameters (cuts) fed into our model for it to work properly. <br>\n",
    "<img src=https://i.imgur.com/LE3R4A2.png alt='Illustration of logistic regression' align='left' width=800></img>"
   ]
  },
  {
   "cell_type": "code",
   "execution_count": null,
   "metadata": {},
   "outputs": [],
   "source": [
    "LR = sklearn.linear_model.LogisticRegression(C=0.01, solver='liblinear').fit(X_train,X_train_labels)\n",
    "print(LR)"
   ]
  },
  {
   "cell_type": "markdown",
   "metadata": {},
   "source": [
    "### Predict classes in unseen data\n",
    "With our model trained, we can try to use it to predict labels of unseen data."
   ]
  },
  {
   "cell_type": "code",
   "execution_count": null,
   "metadata": {},
   "outputs": [],
   "source": [
    "yhat = LR.predict(X_test)\n",
    "print(yhat)"
   ]
  },
  {
   "cell_type": "markdown",
   "metadata": {},
   "source": [
    "We can also see how confident each prediction was by looking at the probability of <br> \n",
    "each class for each sample."
   ]
  },
  {
   "cell_type": "code",
   "execution_count": null,
   "metadata": {},
   "outputs": [],
   "source": [
    "yhat_prob = LR.predict_proba(X_test)\n",
    "print(\"{0}   1     0{1}\\n{2}\\n...\\n {3}\".format(color.BOLD,color.END,yhat_prob[0:5],yhat_prob[-1]))"
   ]
  },
  {
   "cell_type": "markdown",
   "metadata": {},
   "source": [
    "### <a id='confusion'>Confusion Matrix</a>\n",
    "A confusion matrix is a useful tool for understanding how our model performs.<br>\n",
    "\n",
    "<b>Precision:</b> How well our model correctly predicts a label.<br> Indicates how confident we are that positive is indeed positive. <br> Hence Precision = True Positive / (True Positive + False Positive)\n",
    "\n",
    "<b>Recall:</b> The amount true positive samples over the total amount of positive samples. <br> Indicates that we class is correctly recognized. <br> Hence Recall = True Positive / (True Positive + False Negative)"
   ]
  },
  {
   "cell_type": "code",
   "execution_count": null,
   "metadata": {},
   "outputs": [],
   "source": [
    "\n",
    "cnf_matrix = get_confusion_matrix(X_test_labels,yhat, normal=False)\n"
   ]
  },
  {
   "cell_type": "markdown",
   "metadata": {},
   "source": [
    "### Classification Report\n",
    "Breakdown the confusion matrix above to get the precision and recall for each class. <br>\n",
    "\n",
    "<b>F1 Score:</b> Mean of the precision and the recall, a value of 1.0 is a perfect classifier."
   ]
  },
  {
   "cell_type": "code",
   "execution_count": null,
   "metadata": {},
   "outputs": [],
   "source": [
    "print (classification_report(X_test_labels, yhat))"
   ]
  },
  {
   "cell_type": "markdown",
   "metadata": {},
   "source": [
    "### Simple Metric Accuracy\n",
    "To cross-compare with other machine learing algorithms, we also calculate the accuracy. I.e. how often our model <br>\n",
    "correctly predicts labels in the test set based on their ground truths."
   ]
  },
  {
   "cell_type": "code",
   "execution_count": null,
   "metadata": {},
   "outputs": [],
   "source": [
    "yhat = LR.predict(X_test)\n",
    "xhat = LR.predict(X_train)\n",
    "training_std_dev = np.std(xhat==X_train_labels)/np.sqrt(xhat.shape[0]) # std error appropriate?\n",
    "testing_std_dev = np.std(yhat==X_test_labels)/np.sqrt(yhat.shape[0])\n",
    "print(\"%sTrain set Accuracy:%s %.3f \\xb1 %.3f\" %(color.BOLD, color.END, metrics.accuracy_score(X_train_labels, xhat),training_std_dev))\n",
    "print(\"%sTest set Accuracy:%s %.3f \\xb1 %.3f\\n\" %(color.BOLD, color.END, metrics.accuracy_score(X_test_labels, yhat),testing_std_dev))"
   ]
  },
  {
   "cell_type": "markdown",
   "metadata": {},
   "source": [
    "# <a id='crossvalidate'> Grid Search Cross-Validation </a>\n",
    "Test our model over a range of different values to find the best value for that parameter. <br>\n",
    "\n",
    "We implement GridSearch once manually, to reveal what it does, and then use the in-built function provided by SkLearn. <br>\n",
    "\n",
    "This section corresponds to the left branch of this flowchart, as we are trying to find the best paramaters to build our model with. <br>\n",
    "\n",
    "<img src=\"https://scikit-learn.org/stable/_images/grid_search_workflow.png\" alt=\"Grid Search Workflow\" width=\"400\" align=\"left\"> </img>"
   ]
  },
  {
   "cell_type": "markdown",
   "metadata": {},
   "source": [
    "## Manual Grid-Search Walkthrough"
   ]
  },
  {
   "cell_type": "markdown",
   "metadata": {},
   "source": [
    "### Cross-Validation\n",
    "If we simply split our dataset once and train our model this way, it is possible that the model will be biased by how we happen to split \n",
    "up the original data.\n",
    "\n",
    "To deal with this potential bias in performance, we employ cross-validation.\n",
    "\n",
    "Here we split the dataset differently over multiple iterations to improve generalization. <br>\n",
    "\n",
    "For each split with the cross-validator, we put aside 20% of the training data for validation and 80% for traning. <br>\n",
    "<b>Background Reading: </b><a href=\"https://scikit-learn.org/stable/modules/cross_validation.html\">SciKit Learn Documentation: Cross Validation<a> <br>\n",
    "    "
   ]
  },
  {
   "cell_type": "markdown",
   "metadata": {},
   "source": [
    "Here we have chosen to use Stratified K fold splitter, which preserves the original distribution of the dataset (about 50% of each class) in both the training_set and testing_set.<br>\n",
    "By convention, we run 10 passes to ensure a fair scoring. <br>\n",
    "<img src=\"https://scikit-learn.org/stable/_images/sphx_glr_plot_cv_indices_0071.png\" alt=\"Stratified KFold\" width=\"600\" align=\"left\"></img>"
   ]
  },
  {
   "cell_type": "code",
   "execution_count": null,
   "metadata": {
    "scrolled": false
   },
   "outputs": [],
   "source": [
    "cv_splitter,\\\n",
    "average_cv_score = cross_validate_sets(X_train,\n",
    "                                       X_train_labels,\n",
    "                                       scorer = metrics.balanced_accuracy_score,\n",
    "                                       cv_splitter = sklearn.model_selection.StratifiedShuffleSplit,\n",
    "                                       classifier=sklearn.linear_model.LogisticRegression,\n",
    "                                       verbose=0)\n"
   ]
  },
  {
   "cell_type": "markdown",
   "metadata": {},
   "source": [
    "##  <a id=\"manual\">Find Best Parameter Manually</a>\n",
    "If cross-validation is used to reduce bias from splitting, it is possible to objectively <br>\n",
    "find the best parameter for maximizing a certain score (e.g. accuracy or the f1-score)\n",
    "\n",
    "Here this is used to vary a single parameter and find it's optimum value, in the Grid Search <br>\n",
    "in the section this is generalized to any number of parameters. \n",
    "\n",
    "Note that the seed only fixes the CV_splitter, results may still vary depening on which seed <br>\n",
    "was used to split the dataset earlier."
   ]
  },
  {
   "cell_type": "code",
   "execution_count": null,
   "metadata": {},
   "outputs": [],
   "source": [
    "%run BackEnd_Classifiers.ipynb"
   ]
  },
  {
   "cell_type": "code",
   "execution_count": null,
   "metadata": {
    "scrolled": false
   },
   "outputs": [],
   "source": [
    "best_score, best_param_setting = find_best_parameter_manualy(X_train, X_train_labels,\n",
    "                                                         scorer = metrics.balanced_accuracy_score, cv_splitter=sklearn.model_selection.StratifiedShuffleSplit,\n",
    "                                                         classifier = sklearn.linear_model.LogisticRegression, seed = 0, verbose=1, show_plot=True)\n",
    "\n",
    "print(\"{}Best Score{}: {} for parameter set to {}\".format(color.BOLD,color.END,best_score, best_param_setting))"
   ]
  },
  {
   "cell_type": "markdown",
   "metadata": {},
   "source": [
    "## <a id=\"optimal\">Optimal Parameters for the Model</a>\n",
    "\n",
    "Employ techiques from optimizing the k-neighbour classifier (see associated notebook) to <br>\n",
    "identify the best parameters for our model. <br>\n",
    "\n",
    "In this case we can vary:\n",
    "* <b>C</b>: the regularization factor\n",
    "* <b>Cuts</b>: change how many cuts/splits we make on our pressure readings to calculate the average of those intervals\n",
    "* <b>Solver</b>: the algorithm used to maximize likelihood\n",
    "\n",
    "As before we will vary these parameters by iterating over them. For each parameter combinaton we then <br>\n",
    "cross-validate the performance to make sure our score (the accuracy) isn't biased by how we happened to <br>\n",
    "split the training set. <br>\n",
    "\n",
    "### Varying The No. Of Features\n",
    "\n",
    "Before we binned the data by calculating the average of X intervals. \n",
    "\n",
    "Changing the number of intervals could affect how well our model can discriminate between expected and unexpected behaviour, <br> \n",
    "since too many may confuse it by giving it meaningless patterns and too few may not give it enough useful information.\n",
    "\n",
    "To implement this we iterate over different datasets with different number of bins.<br>\n",
    "For each dataset we use Grid-Search Cross-validation as before to get the best parameters for that dataset.\n",
    "\n",
    "**WARNING** If results between manual and grid search do NOT match, this is likely due to the seed value being different"
   ]
  },
  {
   "cell_type": "code",
   "execution_count": 70,
   "metadata": {
    "scrolled": false
   },
   "outputs": [
    {
     "name": "stdout",
     "output_type": "stream",
     "text": [
      ">>>>\u001b[1mDOCUMENTATION\u001b[0m<<<<\n",
      "\n",
      "    penalty : str, 'l1', 'l2', 'elasticnet' or 'none', optional (default='l2')\n",
      "        Used to specify the norm used in the penalization. The 'newton-cg',\n",
      "        'sag' and 'lbfgs' solvers support only l2 penalties. 'elasticnet' is\n",
      "        only supported by the 'saga' solver. If 'none' (not supported by the\n",
      "        liblinear solver), no regularization is applied.\n",
      "\n",
      "        .. versionadded:: 0.19\n",
      "           l1 penalty with SAGA solver (allowing 'multinomial' + L1)\n",
      "\n",
      "    dual : bool, optional (default=False)\n",
      "        Dual or primal formulation. Dual formulation is only implemented for\n",
      "        l2 penalty with liblinear solver. Prefer dual=False when\n",
      "        n_samples > n_features.\n",
      "\n",
      "    tol : float, optional (default=1e-4)\n",
      "        Tolerance for stopping criteria.\n",
      "\n",
      "    C : float, optional (default=1.0)\n",
      "        Inverse of regularization strength; must be a positive float.\n",
      "        Like in support vector machines, smaller values specify stronger\n",
      "        regularization.\n",
      "\n",
      "    fit_intercept : bool, optional (default=True)\n",
      "        Specifies if a constant (a.k.a. bias or intercept) should be\n",
      "        added to the decision function.\n",
      "\n",
      "    intercept_scaling : float, optional (default=1)\n",
      "        Useful only when the solver 'liblinear' is used\n",
      "        and self.fit_intercept is set to True. In this case, x becomes\n",
      "        [x, self.intercept_scaling],\n",
      "        i.e. a \"synthetic\" feature with constant value equal to\n",
      "        intercept_scaling is appended to the instance vector.\n",
      "        The intercept becomes ``intercept_scaling * synthetic_feature_weight``.\n",
      "\n",
      "        Note! the synthetic feature weight is subject to l1/l2 regularization\n",
      "        as all other features.\n",
      "        To lessen the effect of regularization on synthetic feature weight\n",
      "        (and therefore on the intercept) intercept_scaling has to be increased.\n",
      "\n",
      "    class_weight : dict or 'balanced', optional (default=None)\n",
      "        Weights associated with classes in the form ``{class_label: weight}``.\n",
      "        If not given, all classes are supposed to have weight one.\n",
      "\n",
      "        The \"balanced\" mode uses the values of y to automatically adjust\n",
      "        weights inversely proportional to class frequencies in the input data\n",
      "        as ``n_samples / (n_classes * np.bincount(y))``.\n",
      "\n",
      "        Note that these weights will be multiplied with sample_weight (passed\n",
      "        through the fit method) if sample_weight is specified.\n",
      "\n",
      "        .. versionadded:: 0.17\n",
      "           *class_weight='balanced'*\n",
      "\n",
      "    random_state : int, RandomState instance or None, optional (default=None)\n",
      "        The seed of the pseudo random number generator to use when shuffling\n",
      "        the data.  If int, random_state is the seed used by the random number\n",
      "        generator; If RandomState instance, random_state is the random number\n",
      "        generator; If None, the random number generator is the RandomState\n",
      "        instance used by `np.random`. Used when ``solver`` == 'sag' or\n",
      "        'liblinear'.\n",
      "\n",
      "    solver : str, {'newton-cg', 'lbfgs', 'liblinear', 'sag', 'saga'},              optional (default='liblinear').\n",
      "\n",
      "        Algorithm to use in the optimization problem.\n",
      "\n",
      "        - For small datasets, 'liblinear' is a good choice, whereas 'sag' and\n",
      "          'saga' are faster for large ones.\n",
      "        - For multiclass problems, only 'newton-cg', 'sag', 'saga' and 'lbfgs'\n",
      "          handle multinomial loss; 'liblinear' is limited to one-versus-rest\n",
      "          schemes.\n",
      "        - 'newton-cg', 'lbfgs', 'sag' and 'saga' handle L2 or no penalty\n",
      "        - 'liblinear' and 'saga' also handle L1 penalty\n",
      "        - 'saga' also supports 'elasticnet' penalty\n",
      "        - 'liblinear' does not handle no penalty\n",
      "\n",
      "        Note that 'sag' and 'saga' fast convergence is only guaranteed on\n",
      "        features with approximately the same scale. You can\n",
      "        preprocess the data with a scaler from sklearn.preprocessing.\n",
      "\n",
      "        .. versionadded:: 0.17\n",
      "           Stochastic Average Gradient descent solver.\n",
      "        .. versionadded:: 0.19\n",
      "           SAGA solver.\n",
      "        .. versionchanged:: 0.20\n",
      "            Default will change from 'liblinear' to 'lbfgs' in 0.22.\n",
      "\n",
      "    max_iter : int, optional (default=100)\n",
      "        Maximum number of iterations taken for the solvers to converge.\n",
      "\n",
      "    multi_class : str, {'ovr', 'multinomial', 'auto'}, optional (default='ovr')\n",
      "        If the option chosen is 'ovr', then a binary problem is fit for each\n",
      "        label. For 'multinomial' the loss minimised is the multinomial loss fit\n",
      "        across the entire probability distribution, *even when the data is\n",
      "        binary*. 'multinomial' is unavailable when solver='liblinear'.\n",
      "        'auto' selects 'ovr' if the data is binary, or if solver='liblinear',\n",
      "        and otherwise selects 'multinomial'.\n",
      "\n",
      "        .. versionadded:: 0.18\n",
      "           Stochastic Average Gradient descent solver for 'multinomial' case.\n",
      "        .. versionchanged:: 0.20\n",
      "            Default will change from 'ovr' to 'auto' in 0.22.\n",
      "\n",
      "    verbose : int, optional (default=0)\n",
      "        For the liblinear and lbfgs solvers set verbose to any positive\n",
      "        number for verbosity.\n",
      "\n",
      "    warm_start : bool, optional (default=False)\n",
      "        When set to True, reuse the solution of the previous call to fit as\n",
      "        initialization, otherwise, just erase the previous solution.\n",
      "        Useless for liblinear solver. See :term:`the Glossary <warm_start>`.\n",
      "\n",
      "        .. versionadded:: 0.17\n",
      "           *warm_start* to support *lbfgs*, *newton-cg*, *sag*, *saga* solvers.\n",
      "\n",
      "    n_jobs : int or None, optional (default=None)\n",
      "        Number of CPU cores used when parallelizing over classes if\n",
      "        multi_class='ovr'\". This parameter is ignored when the ``solver`` is\n",
      "        set to 'liblinear' regardless of whether 'multi_class' is specified or\n",
      "        not. ``None`` means 1 unless in a :obj:`joblib.parallel_backend`\n",
      "        context. ``-1`` means using all processors.\n",
      "        See :term:`Glossary <n_jobs>` for more details.\n",
      "\n",
      "    l1_ratio : float or None, optional (default=None)\n",
      "        The Elastic-Net mixing parameter, with ``0 <= l1_ratio <= 1``. Only\n",
      "        used if ``penalty='elasticnet'`. Setting ``l1_ratio=0`` is equivalent\n",
      "        to using ``penalty='l2'``, while setting ``l1_ratio=1`` is equivalent\n",
      "        to using ``penalty='l1'``. For ``0 < l1_ratio <1``, the penalty is a\n",
      "        combination of L1 and L2.\n",
      "\n",
      "    Attributes\n",
      "    \n",
      ">>>>\u001b[1mEND DOCUMENTATION\u001b[0m<<<<\n",
      "Fitting 10 folds for each of 100 candidates, totalling 1000 fits\n"
     ]
    },
    {
     "name": "stderr",
     "output_type": "stream",
     "text": [
      "[Parallel(n_jobs=1)]: Using backend SequentialBackend with 1 concurrent workers.\n",
      "[Parallel(n_jobs=1)]: Done 1000 out of 1000 | elapsed:    6.0s finished\n",
      "[Parallel(n_jobs=1)]: Using backend SequentialBackend with 1 concurrent workers.\n"
     ]
    },
    {
     "name": "stdout",
     "output_type": "stream",
     "text": [
      "Fitting 10 folds for each of 100 candidates, totalling 1000 fits\n"
     ]
    },
    {
     "name": "stderr",
     "output_type": "stream",
     "text": [
      "[Parallel(n_jobs=1)]: Done 1000 out of 1000 | elapsed:    6.4s finished\n",
      "[Parallel(n_jobs=1)]: Using backend SequentialBackend with 1 concurrent workers.\n"
     ]
    },
    {
     "name": "stdout",
     "output_type": "stream",
     "text": [
      "Fitting 10 folds for each of 100 candidates, totalling 1000 fits\n"
     ]
    },
    {
     "name": "stderr",
     "output_type": "stream",
     "text": [
      "[Parallel(n_jobs=1)]: Done 1000 out of 1000 | elapsed:    6.9s finished\n",
      "[Parallel(n_jobs=1)]: Using backend SequentialBackend with 1 concurrent workers.\n"
     ]
    },
    {
     "name": "stdout",
     "output_type": "stream",
     "text": [
      "Fitting 10 folds for each of 100 candidates, totalling 1000 fits\n"
     ]
    },
    {
     "name": "stderr",
     "output_type": "stream",
     "text": [
      "[Parallel(n_jobs=1)]: Done 1000 out of 1000 | elapsed:    7.1s finished\n",
      "[Parallel(n_jobs=1)]: Using backend SequentialBackend with 1 concurrent workers.\n"
     ]
    },
    {
     "name": "stdout",
     "output_type": "stream",
     "text": [
      "Fitting 10 folds for each of 100 candidates, totalling 1000 fits\n"
     ]
    },
    {
     "name": "stderr",
     "output_type": "stream",
     "text": [
      "[Parallel(n_jobs=1)]: Done 1000 out of 1000 | elapsed:    7.7s finished\n",
      "[Parallel(n_jobs=1)]: Using backend SequentialBackend with 1 concurrent workers.\n"
     ]
    },
    {
     "name": "stdout",
     "output_type": "stream",
     "text": [
      "Fitting 10 folds for each of 100 candidates, totalling 1000 fits\n"
     ]
    },
    {
     "name": "stderr",
     "output_type": "stream",
     "text": [
      "[Parallel(n_jobs=1)]: Done 1000 out of 1000 | elapsed:    7.4s finished\n",
      "[Parallel(n_jobs=1)]: Using backend SequentialBackend with 1 concurrent workers.\n"
     ]
    },
    {
     "name": "stdout",
     "output_type": "stream",
     "text": [
      "Fitting 10 folds for each of 100 candidates, totalling 1000 fits\n"
     ]
    },
    {
     "name": "stderr",
     "output_type": "stream",
     "text": [
      "[Parallel(n_jobs=1)]: Done 1000 out of 1000 | elapsed:    7.7s finished\n",
      "[Parallel(n_jobs=1)]: Using backend SequentialBackend with 1 concurrent workers.\n"
     ]
    },
    {
     "name": "stdout",
     "output_type": "stream",
     "text": [
      "Fitting 10 folds for each of 100 candidates, totalling 1000 fits\n"
     ]
    },
    {
     "name": "stderr",
     "output_type": "stream",
     "text": [
      "[Parallel(n_jobs=1)]: Done 1000 out of 1000 | elapsed:    8.5s finished\n",
      "[Parallel(n_jobs=1)]: Using backend SequentialBackend with 1 concurrent workers.\n"
     ]
    },
    {
     "name": "stdout",
     "output_type": "stream",
     "text": [
      "Fitting 10 folds for each of 100 candidates, totalling 1000 fits\n"
     ]
    },
    {
     "name": "stderr",
     "output_type": "stream",
     "text": [
      "[Parallel(n_jobs=1)]: Done 1000 out of 1000 | elapsed:    8.1s finished\n",
      "[Parallel(n_jobs=1)]: Using backend SequentialBackend with 1 concurrent workers.\n"
     ]
    },
    {
     "name": "stdout",
     "output_type": "stream",
     "text": [
      "Fitting 10 folds for each of 100 candidates, totalling 1000 fits\n"
     ]
    },
    {
     "name": "stderr",
     "output_type": "stream",
     "text": [
      "[Parallel(n_jobs=1)]: Done 1000 out of 1000 | elapsed:    7.9s finished\n",
      "[Parallel(n_jobs=1)]: Using backend SequentialBackend with 1 concurrent workers.\n"
     ]
    },
    {
     "name": "stdout",
     "output_type": "stream",
     "text": [
      "Fitting 10 folds for each of 100 candidates, totalling 1000 fits\n"
     ]
    },
    {
     "name": "stderr",
     "output_type": "stream",
     "text": [
      "[Parallel(n_jobs=1)]: Done 1000 out of 1000 | elapsed:    8.6s finished\n",
      "[Parallel(n_jobs=1)]: Using backend SequentialBackend with 1 concurrent workers.\n"
     ]
    },
    {
     "name": "stdout",
     "output_type": "stream",
     "text": [
      "Fitting 10 folds for each of 100 candidates, totalling 1000 fits\n",
      "\u001b[1mBest Score\u001b[0m: 0.81 with parameters: \n",
      " {'C': 1.266842105263158, 'solver': 'newton-cg'}\n"
     ]
    },
    {
     "name": "stderr",
     "output_type": "stream",
     "text": [
      "[Parallel(n_jobs=1)]: Done 1000 out of 1000 | elapsed:    7.9s finished\n"
     ]
    }
   ],
   "source": [
    "best_no_of_features, best_params, best_score = find_best_parameters(balanced_datasets,\n",
    "                                                                    param_grid = {'C': np.linspace(0.01,2,20),'solver':['newton-cg', 'lbfgs', 'liblinear', 'sag', 'saga']},\n",
    "                                                                    classifier = sklearn.linear_model.LogisticRegression,\n",
    "                                                                    cv_splitter = sklearn.model_selection.StratifiedShuffleSplit,\n",
    "                                                                    scorer=metrics.balanced_accuracy_score,\n",
    "                                                                    seed = 0,\n",
    "                                                                    verbose=1)\n",
    "print(\"{0}Best Score{1}: {2:.2f} with parameters: \\n {3}\".format(color.BOLD,color.END,best_score, best_params))"
   ]
  },
  {
   "cell_type": "markdown",
   "metadata": {},
   "source": [
    "## <a id='eva'>Final Evaluaton </a>\n",
    "Uses seeded training_set (not cross validated!) for a final evaluation of the model, including the standard deviation."
   ]
  },
  {
   "cell_type": "code",
   "execution_count": 72,
   "metadata": {
    "scrolled": false
   },
   "outputs": [
    {
     "name": "stdout",
     "output_type": "stream",
     "text": [
      "\u001b[1mTrain Set accuracy_score \u001b[0m: 0.7797979797979798\n",
      "\u001b[1mTest Set accuracy_score \u001b[0m: 0.6959247648902821\n"
     ]
    },
    {
     "data": {
      "application/javascript": [
       "/* Put everything inside the global mpl namespace */\n",
       "window.mpl = {};\n",
       "\n",
       "\n",
       "mpl.get_websocket_type = function() {\n",
       "    if (typeof(WebSocket) !== 'undefined') {\n",
       "        return WebSocket;\n",
       "    } else if (typeof(MozWebSocket) !== 'undefined') {\n",
       "        return MozWebSocket;\n",
       "    } else {\n",
       "        alert('Your browser does not have WebSocket support. ' +\n",
       "              'Please try Chrome, Safari or Firefox ≥ 6. ' +\n",
       "              'Firefox 4 and 5 are also supported but you ' +\n",
       "              'have to enable WebSockets in about:config.');\n",
       "    };\n",
       "}\n",
       "\n",
       "mpl.figure = function(figure_id, websocket, ondownload, parent_element) {\n",
       "    this.id = figure_id;\n",
       "\n",
       "    this.ws = websocket;\n",
       "\n",
       "    this.supports_binary = (this.ws.binaryType != undefined);\n",
       "\n",
       "    if (!this.supports_binary) {\n",
       "        var warnings = document.getElementById(\"mpl-warnings\");\n",
       "        if (warnings) {\n",
       "            warnings.style.display = 'block';\n",
       "            warnings.textContent = (\n",
       "                \"This browser does not support binary websocket messages. \" +\n",
       "                    \"Performance may be slow.\");\n",
       "        }\n",
       "    }\n",
       "\n",
       "    this.imageObj = new Image();\n",
       "\n",
       "    this.context = undefined;\n",
       "    this.message = undefined;\n",
       "    this.canvas = undefined;\n",
       "    this.rubberband_canvas = undefined;\n",
       "    this.rubberband_context = undefined;\n",
       "    this.format_dropdown = undefined;\n",
       "\n",
       "    this.image_mode = 'full';\n",
       "\n",
       "    this.root = $('<div/>');\n",
       "    this._root_extra_style(this.root)\n",
       "    this.root.attr('style', 'display: inline-block');\n",
       "\n",
       "    $(parent_element).append(this.root);\n",
       "\n",
       "    this._init_header(this);\n",
       "    this._init_canvas(this);\n",
       "    this._init_toolbar(this);\n",
       "\n",
       "    var fig = this;\n",
       "\n",
       "    this.waiting = false;\n",
       "\n",
       "    this.ws.onopen =  function () {\n",
       "            fig.send_message(\"supports_binary\", {value: fig.supports_binary});\n",
       "            fig.send_message(\"send_image_mode\", {});\n",
       "            if (mpl.ratio != 1) {\n",
       "                fig.send_message(\"set_dpi_ratio\", {'dpi_ratio': mpl.ratio});\n",
       "            }\n",
       "            fig.send_message(\"refresh\", {});\n",
       "        }\n",
       "\n",
       "    this.imageObj.onload = function() {\n",
       "            if (fig.image_mode == 'full') {\n",
       "                // Full images could contain transparency (where diff images\n",
       "                // almost always do), so we need to clear the canvas so that\n",
       "                // there is no ghosting.\n",
       "                fig.context.clearRect(0, 0, fig.canvas.width, fig.canvas.height);\n",
       "            }\n",
       "            fig.context.drawImage(fig.imageObj, 0, 0);\n",
       "        };\n",
       "\n",
       "    this.imageObj.onunload = function() {\n",
       "        fig.ws.close();\n",
       "    }\n",
       "\n",
       "    this.ws.onmessage = this._make_on_message_function(this);\n",
       "\n",
       "    this.ondownload = ondownload;\n",
       "}\n",
       "\n",
       "mpl.figure.prototype._init_header = function() {\n",
       "    var titlebar = $(\n",
       "        '<div class=\"ui-dialog-titlebar ui-widget-header ui-corner-all ' +\n",
       "        'ui-helper-clearfix\"/>');\n",
       "    var titletext = $(\n",
       "        '<div class=\"ui-dialog-title\" style=\"width: 100%; ' +\n",
       "        'text-align: center; padding: 3px;\"/>');\n",
       "    titlebar.append(titletext)\n",
       "    this.root.append(titlebar);\n",
       "    this.header = titletext[0];\n",
       "}\n",
       "\n",
       "\n",
       "\n",
       "mpl.figure.prototype._canvas_extra_style = function(canvas_div) {\n",
       "\n",
       "}\n",
       "\n",
       "\n",
       "mpl.figure.prototype._root_extra_style = function(canvas_div) {\n",
       "\n",
       "}\n",
       "\n",
       "mpl.figure.prototype._init_canvas = function() {\n",
       "    var fig = this;\n",
       "\n",
       "    var canvas_div = $('<div/>');\n",
       "\n",
       "    canvas_div.attr('style', 'position: relative; clear: both; outline: 0');\n",
       "\n",
       "    function canvas_keyboard_event(event) {\n",
       "        return fig.key_event(event, event['data']);\n",
       "    }\n",
       "\n",
       "    canvas_div.keydown('key_press', canvas_keyboard_event);\n",
       "    canvas_div.keyup('key_release', canvas_keyboard_event);\n",
       "    this.canvas_div = canvas_div\n",
       "    this._canvas_extra_style(canvas_div)\n",
       "    this.root.append(canvas_div);\n",
       "\n",
       "    var canvas = $('<canvas/>');\n",
       "    canvas.addClass('mpl-canvas');\n",
       "    canvas.attr('style', \"left: 0; top: 0; z-index: 0; outline: 0\")\n",
       "\n",
       "    this.canvas = canvas[0];\n",
       "    this.context = canvas[0].getContext(\"2d\");\n",
       "\n",
       "    var backingStore = this.context.backingStorePixelRatio ||\n",
       "\tthis.context.webkitBackingStorePixelRatio ||\n",
       "\tthis.context.mozBackingStorePixelRatio ||\n",
       "\tthis.context.msBackingStorePixelRatio ||\n",
       "\tthis.context.oBackingStorePixelRatio ||\n",
       "\tthis.context.backingStorePixelRatio || 1;\n",
       "\n",
       "    mpl.ratio = (window.devicePixelRatio || 1) / backingStore;\n",
       "\n",
       "    var rubberband = $('<canvas/>');\n",
       "    rubberband.attr('style', \"position: absolute; left: 0; top: 0; z-index: 1;\")\n",
       "\n",
       "    var pass_mouse_events = true;\n",
       "\n",
       "    canvas_div.resizable({\n",
       "        start: function(event, ui) {\n",
       "            pass_mouse_events = false;\n",
       "        },\n",
       "        resize: function(event, ui) {\n",
       "            fig.request_resize(ui.size.width, ui.size.height);\n",
       "        },\n",
       "        stop: function(event, ui) {\n",
       "            pass_mouse_events = true;\n",
       "            fig.request_resize(ui.size.width, ui.size.height);\n",
       "        },\n",
       "    });\n",
       "\n",
       "    function mouse_event_fn(event) {\n",
       "        if (pass_mouse_events)\n",
       "            return fig.mouse_event(event, event['data']);\n",
       "    }\n",
       "\n",
       "    rubberband.mousedown('button_press', mouse_event_fn);\n",
       "    rubberband.mouseup('button_release', mouse_event_fn);\n",
       "    // Throttle sequential mouse events to 1 every 20ms.\n",
       "    rubberband.mousemove('motion_notify', mouse_event_fn);\n",
       "\n",
       "    rubberband.mouseenter('figure_enter', mouse_event_fn);\n",
       "    rubberband.mouseleave('figure_leave', mouse_event_fn);\n",
       "\n",
       "    canvas_div.on(\"wheel\", function (event) {\n",
       "        event = event.originalEvent;\n",
       "        event['data'] = 'scroll'\n",
       "        if (event.deltaY < 0) {\n",
       "            event.step = 1;\n",
       "        } else {\n",
       "            event.step = -1;\n",
       "        }\n",
       "        mouse_event_fn(event);\n",
       "    });\n",
       "\n",
       "    canvas_div.append(canvas);\n",
       "    canvas_div.append(rubberband);\n",
       "\n",
       "    this.rubberband = rubberband;\n",
       "    this.rubberband_canvas = rubberband[0];\n",
       "    this.rubberband_context = rubberband[0].getContext(\"2d\");\n",
       "    this.rubberband_context.strokeStyle = \"#000000\";\n",
       "\n",
       "    this._resize_canvas = function(width, height) {\n",
       "        // Keep the size of the canvas, canvas container, and rubber band\n",
       "        // canvas in synch.\n",
       "        canvas_div.css('width', width)\n",
       "        canvas_div.css('height', height)\n",
       "\n",
       "        canvas.attr('width', width * mpl.ratio);\n",
       "        canvas.attr('height', height * mpl.ratio);\n",
       "        canvas.attr('style', 'width: ' + width + 'px; height: ' + height + 'px;');\n",
       "\n",
       "        rubberband.attr('width', width);\n",
       "        rubberband.attr('height', height);\n",
       "    }\n",
       "\n",
       "    // Set the figure to an initial 600x600px, this will subsequently be updated\n",
       "    // upon first draw.\n",
       "    this._resize_canvas(600, 600);\n",
       "\n",
       "    // Disable right mouse context menu.\n",
       "    $(this.rubberband_canvas).bind(\"contextmenu\",function(e){\n",
       "        return false;\n",
       "    });\n",
       "\n",
       "    function set_focus () {\n",
       "        canvas.focus();\n",
       "        canvas_div.focus();\n",
       "    }\n",
       "\n",
       "    window.setTimeout(set_focus, 100);\n",
       "}\n",
       "\n",
       "mpl.figure.prototype._init_toolbar = function() {\n",
       "    var fig = this;\n",
       "\n",
       "    var nav_element = $('<div/>');\n",
       "    nav_element.attr('style', 'width: 100%');\n",
       "    this.root.append(nav_element);\n",
       "\n",
       "    // Define a callback function for later on.\n",
       "    function toolbar_event(event) {\n",
       "        return fig.toolbar_button_onclick(event['data']);\n",
       "    }\n",
       "    function toolbar_mouse_event(event) {\n",
       "        return fig.toolbar_button_onmouseover(event['data']);\n",
       "    }\n",
       "\n",
       "    for(var toolbar_ind in mpl.toolbar_items) {\n",
       "        var name = mpl.toolbar_items[toolbar_ind][0];\n",
       "        var tooltip = mpl.toolbar_items[toolbar_ind][1];\n",
       "        var image = mpl.toolbar_items[toolbar_ind][2];\n",
       "        var method_name = mpl.toolbar_items[toolbar_ind][3];\n",
       "\n",
       "        if (!name) {\n",
       "            // put a spacer in here.\n",
       "            continue;\n",
       "        }\n",
       "        var button = $('<button/>');\n",
       "        button.addClass('ui-button ui-widget ui-state-default ui-corner-all ' +\n",
       "                        'ui-button-icon-only');\n",
       "        button.attr('role', 'button');\n",
       "        button.attr('aria-disabled', 'false');\n",
       "        button.click(method_name, toolbar_event);\n",
       "        button.mouseover(tooltip, toolbar_mouse_event);\n",
       "\n",
       "        var icon_img = $('<span/>');\n",
       "        icon_img.addClass('ui-button-icon-primary ui-icon');\n",
       "        icon_img.addClass(image);\n",
       "        icon_img.addClass('ui-corner-all');\n",
       "\n",
       "        var tooltip_span = $('<span/>');\n",
       "        tooltip_span.addClass('ui-button-text');\n",
       "        tooltip_span.html(tooltip);\n",
       "\n",
       "        button.append(icon_img);\n",
       "        button.append(tooltip_span);\n",
       "\n",
       "        nav_element.append(button);\n",
       "    }\n",
       "\n",
       "    var fmt_picker_span = $('<span/>');\n",
       "\n",
       "    var fmt_picker = $('<select/>');\n",
       "    fmt_picker.addClass('mpl-toolbar-option ui-widget ui-widget-content');\n",
       "    fmt_picker_span.append(fmt_picker);\n",
       "    nav_element.append(fmt_picker_span);\n",
       "    this.format_dropdown = fmt_picker[0];\n",
       "\n",
       "    for (var ind in mpl.extensions) {\n",
       "        var fmt = mpl.extensions[ind];\n",
       "        var option = $(\n",
       "            '<option/>', {selected: fmt === mpl.default_extension}).html(fmt);\n",
       "        fmt_picker.append(option);\n",
       "    }\n",
       "\n",
       "    // Add hover states to the ui-buttons\n",
       "    $( \".ui-button\" ).hover(\n",
       "        function() { $(this).addClass(\"ui-state-hover\");},\n",
       "        function() { $(this).removeClass(\"ui-state-hover\");}\n",
       "    );\n",
       "\n",
       "    var status_bar = $('<span class=\"mpl-message\"/>');\n",
       "    nav_element.append(status_bar);\n",
       "    this.message = status_bar[0];\n",
       "}\n",
       "\n",
       "mpl.figure.prototype.request_resize = function(x_pixels, y_pixels) {\n",
       "    // Request matplotlib to resize the figure. Matplotlib will then trigger a resize in the client,\n",
       "    // which will in turn request a refresh of the image.\n",
       "    this.send_message('resize', {'width': x_pixels, 'height': y_pixels});\n",
       "}\n",
       "\n",
       "mpl.figure.prototype.send_message = function(type, properties) {\n",
       "    properties['type'] = type;\n",
       "    properties['figure_id'] = this.id;\n",
       "    this.ws.send(JSON.stringify(properties));\n",
       "}\n",
       "\n",
       "mpl.figure.prototype.send_draw_message = function() {\n",
       "    if (!this.waiting) {\n",
       "        this.waiting = true;\n",
       "        this.ws.send(JSON.stringify({type: \"draw\", figure_id: this.id}));\n",
       "    }\n",
       "}\n",
       "\n",
       "\n",
       "mpl.figure.prototype.handle_save = function(fig, msg) {\n",
       "    var format_dropdown = fig.format_dropdown;\n",
       "    var format = format_dropdown.options[format_dropdown.selectedIndex].value;\n",
       "    fig.ondownload(fig, format);\n",
       "}\n",
       "\n",
       "\n",
       "mpl.figure.prototype.handle_resize = function(fig, msg) {\n",
       "    var size = msg['size'];\n",
       "    if (size[0] != fig.canvas.width || size[1] != fig.canvas.height) {\n",
       "        fig._resize_canvas(size[0], size[1]);\n",
       "        fig.send_message(\"refresh\", {});\n",
       "    };\n",
       "}\n",
       "\n",
       "mpl.figure.prototype.handle_rubberband = function(fig, msg) {\n",
       "    var x0 = msg['x0'] / mpl.ratio;\n",
       "    var y0 = (fig.canvas.height - msg['y0']) / mpl.ratio;\n",
       "    var x1 = msg['x1'] / mpl.ratio;\n",
       "    var y1 = (fig.canvas.height - msg['y1']) / mpl.ratio;\n",
       "    x0 = Math.floor(x0) + 0.5;\n",
       "    y0 = Math.floor(y0) + 0.5;\n",
       "    x1 = Math.floor(x1) + 0.5;\n",
       "    y1 = Math.floor(y1) + 0.5;\n",
       "    var min_x = Math.min(x0, x1);\n",
       "    var min_y = Math.min(y0, y1);\n",
       "    var width = Math.abs(x1 - x0);\n",
       "    var height = Math.abs(y1 - y0);\n",
       "\n",
       "    fig.rubberband_context.clearRect(\n",
       "        0, 0, fig.canvas.width, fig.canvas.height);\n",
       "\n",
       "    fig.rubberband_context.strokeRect(min_x, min_y, width, height);\n",
       "}\n",
       "\n",
       "mpl.figure.prototype.handle_figure_label = function(fig, msg) {\n",
       "    // Updates the figure title.\n",
       "    fig.header.textContent = msg['label'];\n",
       "}\n",
       "\n",
       "mpl.figure.prototype.handle_cursor = function(fig, msg) {\n",
       "    var cursor = msg['cursor'];\n",
       "    switch(cursor)\n",
       "    {\n",
       "    case 0:\n",
       "        cursor = 'pointer';\n",
       "        break;\n",
       "    case 1:\n",
       "        cursor = 'default';\n",
       "        break;\n",
       "    case 2:\n",
       "        cursor = 'crosshair';\n",
       "        break;\n",
       "    case 3:\n",
       "        cursor = 'move';\n",
       "        break;\n",
       "    }\n",
       "    fig.rubberband_canvas.style.cursor = cursor;\n",
       "}\n",
       "\n",
       "mpl.figure.prototype.handle_message = function(fig, msg) {\n",
       "    fig.message.textContent = msg['message'];\n",
       "}\n",
       "\n",
       "mpl.figure.prototype.handle_draw = function(fig, msg) {\n",
       "    // Request the server to send over a new figure.\n",
       "    fig.send_draw_message();\n",
       "}\n",
       "\n",
       "mpl.figure.prototype.handle_image_mode = function(fig, msg) {\n",
       "    fig.image_mode = msg['mode'];\n",
       "}\n",
       "\n",
       "mpl.figure.prototype.updated_canvas_event = function() {\n",
       "    // Called whenever the canvas gets updated.\n",
       "    this.send_message(\"ack\", {});\n",
       "}\n",
       "\n",
       "// A function to construct a web socket function for onmessage handling.\n",
       "// Called in the figure constructor.\n",
       "mpl.figure.prototype._make_on_message_function = function(fig) {\n",
       "    return function socket_on_message(evt) {\n",
       "        if (evt.data instanceof Blob) {\n",
       "            /* FIXME: We get \"Resource interpreted as Image but\n",
       "             * transferred with MIME type text/plain:\" errors on\n",
       "             * Chrome.  But how to set the MIME type?  It doesn't seem\n",
       "             * to be part of the websocket stream */\n",
       "            evt.data.type = \"image/png\";\n",
       "\n",
       "            /* Free the memory for the previous frames */\n",
       "            if (fig.imageObj.src) {\n",
       "                (window.URL || window.webkitURL).revokeObjectURL(\n",
       "                    fig.imageObj.src);\n",
       "            }\n",
       "\n",
       "            fig.imageObj.src = (window.URL || window.webkitURL).createObjectURL(\n",
       "                evt.data);\n",
       "            fig.updated_canvas_event();\n",
       "            fig.waiting = false;\n",
       "            return;\n",
       "        }\n",
       "        else if (typeof evt.data === 'string' && evt.data.slice(0, 21) == \"data:image/png;base64\") {\n",
       "            fig.imageObj.src = evt.data;\n",
       "            fig.updated_canvas_event();\n",
       "            fig.waiting = false;\n",
       "            return;\n",
       "        }\n",
       "\n",
       "        var msg = JSON.parse(evt.data);\n",
       "        var msg_type = msg['type'];\n",
       "\n",
       "        // Call the  \"handle_{type}\" callback, which takes\n",
       "        // the figure and JSON message as its only arguments.\n",
       "        try {\n",
       "            var callback = fig[\"handle_\" + msg_type];\n",
       "        } catch (e) {\n",
       "            console.log(\"No handler for the '\" + msg_type + \"' message type: \", msg);\n",
       "            return;\n",
       "        }\n",
       "\n",
       "        if (callback) {\n",
       "            try {\n",
       "                // console.log(\"Handling '\" + msg_type + \"' message: \", msg);\n",
       "                callback(fig, msg);\n",
       "            } catch (e) {\n",
       "                console.log(\"Exception inside the 'handler_\" + msg_type + \"' callback:\", e, e.stack, msg);\n",
       "            }\n",
       "        }\n",
       "    };\n",
       "}\n",
       "\n",
       "// from http://stackoverflow.com/questions/1114465/getting-mouse-location-in-canvas\n",
       "mpl.findpos = function(e) {\n",
       "    //this section is from http://www.quirksmode.org/js/events_properties.html\n",
       "    var targ;\n",
       "    if (!e)\n",
       "        e = window.event;\n",
       "    if (e.target)\n",
       "        targ = e.target;\n",
       "    else if (e.srcElement)\n",
       "        targ = e.srcElement;\n",
       "    if (targ.nodeType == 3) // defeat Safari bug\n",
       "        targ = targ.parentNode;\n",
       "\n",
       "    // jQuery normalizes the pageX and pageY\n",
       "    // pageX,Y are the mouse positions relative to the document\n",
       "    // offset() returns the position of the element relative to the document\n",
       "    var x = e.pageX - $(targ).offset().left;\n",
       "    var y = e.pageY - $(targ).offset().top;\n",
       "\n",
       "    return {\"x\": x, \"y\": y};\n",
       "};\n",
       "\n",
       "/*\n",
       " * return a copy of an object with only non-object keys\n",
       " * we need this to avoid circular references\n",
       " * http://stackoverflow.com/a/24161582/3208463\n",
       " */\n",
       "function simpleKeys (original) {\n",
       "  return Object.keys(original).reduce(function (obj, key) {\n",
       "    if (typeof original[key] !== 'object')\n",
       "        obj[key] = original[key]\n",
       "    return obj;\n",
       "  }, {});\n",
       "}\n",
       "\n",
       "mpl.figure.prototype.mouse_event = function(event, name) {\n",
       "    var canvas_pos = mpl.findpos(event)\n",
       "\n",
       "    if (name === 'button_press')\n",
       "    {\n",
       "        this.canvas.focus();\n",
       "        this.canvas_div.focus();\n",
       "    }\n",
       "\n",
       "    var x = canvas_pos.x * mpl.ratio;\n",
       "    var y = canvas_pos.y * mpl.ratio;\n",
       "\n",
       "    this.send_message(name, {x: x, y: y, button: event.button,\n",
       "                             step: event.step,\n",
       "                             guiEvent: simpleKeys(event)});\n",
       "\n",
       "    /* This prevents the web browser from automatically changing to\n",
       "     * the text insertion cursor when the button is pressed.  We want\n",
       "     * to control all of the cursor setting manually through the\n",
       "     * 'cursor' event from matplotlib */\n",
       "    event.preventDefault();\n",
       "    return false;\n",
       "}\n",
       "\n",
       "mpl.figure.prototype._key_event_extra = function(event, name) {\n",
       "    // Handle any extra behaviour associated with a key event\n",
       "}\n",
       "\n",
       "mpl.figure.prototype.key_event = function(event, name) {\n",
       "\n",
       "    // Prevent repeat events\n",
       "    if (name == 'key_press')\n",
       "    {\n",
       "        if (event.which === this._key)\n",
       "            return;\n",
       "        else\n",
       "            this._key = event.which;\n",
       "    }\n",
       "    if (name == 'key_release')\n",
       "        this._key = null;\n",
       "\n",
       "    var value = '';\n",
       "    if (event.ctrlKey && event.which != 17)\n",
       "        value += \"ctrl+\";\n",
       "    if (event.altKey && event.which != 18)\n",
       "        value += \"alt+\";\n",
       "    if (event.shiftKey && event.which != 16)\n",
       "        value += \"shift+\";\n",
       "\n",
       "    value += 'k';\n",
       "    value += event.which.toString();\n",
       "\n",
       "    this._key_event_extra(event, name);\n",
       "\n",
       "    this.send_message(name, {key: value,\n",
       "                             guiEvent: simpleKeys(event)});\n",
       "    return false;\n",
       "}\n",
       "\n",
       "mpl.figure.prototype.toolbar_button_onclick = function(name) {\n",
       "    if (name == 'download') {\n",
       "        this.handle_save(this, null);\n",
       "    } else {\n",
       "        this.send_message(\"toolbar_button\", {name: name});\n",
       "    }\n",
       "};\n",
       "\n",
       "mpl.figure.prototype.toolbar_button_onmouseover = function(tooltip) {\n",
       "    this.message.textContent = tooltip;\n",
       "};\n",
       "mpl.toolbar_items = [[\"Home\", \"Reset original view\", \"fa fa-home icon-home\", \"home\"], [\"Back\", \"Back to previous view\", \"fa fa-arrow-left icon-arrow-left\", \"back\"], [\"Forward\", \"Forward to next view\", \"fa fa-arrow-right icon-arrow-right\", \"forward\"], [\"\", \"\", \"\", \"\"], [\"Pan\", \"Pan axes with left mouse, zoom with right\", \"fa fa-arrows icon-move\", \"pan\"], [\"Zoom\", \"Zoom to rectangle\", \"fa fa-square-o icon-check-empty\", \"zoom\"], [\"\", \"\", \"\", \"\"], [\"Download\", \"Download plot\", \"fa fa-floppy-o icon-save\", \"download\"]];\n",
       "\n",
       "mpl.extensions = [\"eps\", \"jpeg\", \"pdf\", \"png\", \"ps\", \"raw\", \"svg\", \"tif\"];\n",
       "\n",
       "mpl.default_extension = \"png\";var comm_websocket_adapter = function(comm) {\n",
       "    // Create a \"websocket\"-like object which calls the given IPython comm\n",
       "    // object with the appropriate methods. Currently this is a non binary\n",
       "    // socket, so there is still some room for performance tuning.\n",
       "    var ws = {};\n",
       "\n",
       "    ws.close = function() {\n",
       "        comm.close()\n",
       "    };\n",
       "    ws.send = function(m) {\n",
       "        //console.log('sending', m);\n",
       "        comm.send(m);\n",
       "    };\n",
       "    // Register the callback with on_msg.\n",
       "    comm.on_msg(function(msg) {\n",
       "        //console.log('receiving', msg['content']['data'], msg);\n",
       "        // Pass the mpl event to the overridden (by mpl) onmessage function.\n",
       "        ws.onmessage(msg['content']['data'])\n",
       "    });\n",
       "    return ws;\n",
       "}\n",
       "\n",
       "mpl.mpl_figure_comm = function(comm, msg) {\n",
       "    // This is the function which gets called when the mpl process\n",
       "    // starts-up an IPython Comm through the \"matplotlib\" channel.\n",
       "\n",
       "    var id = msg.content.data.id;\n",
       "    // Get hold of the div created by the display call when the Comm\n",
       "    // socket was opened in Python.\n",
       "    var element = $(\"#\" + id);\n",
       "    var ws_proxy = comm_websocket_adapter(comm)\n",
       "\n",
       "    function ondownload(figure, format) {\n",
       "        window.open(figure.imageObj.src);\n",
       "    }\n",
       "\n",
       "    var fig = new mpl.figure(id, ws_proxy,\n",
       "                           ondownload,\n",
       "                           element.get(0));\n",
       "\n",
       "    // Call onopen now - mpl needs it, as it is assuming we've passed it a real\n",
       "    // web socket which is closed, not our websocket->open comm proxy.\n",
       "    ws_proxy.onopen();\n",
       "\n",
       "    fig.parent_element = element.get(0);\n",
       "    fig.cell_info = mpl.find_output_cell(\"<div id='\" + id + \"'></div>\");\n",
       "    if (!fig.cell_info) {\n",
       "        console.error(\"Failed to find cell for figure\", id, fig);\n",
       "        return;\n",
       "    }\n",
       "\n",
       "    var output_index = fig.cell_info[2]\n",
       "    var cell = fig.cell_info[0];\n",
       "\n",
       "};\n",
       "\n",
       "mpl.figure.prototype.handle_close = function(fig, msg) {\n",
       "    var width = fig.canvas.width/mpl.ratio\n",
       "    fig.root.unbind('remove')\n",
       "\n",
       "    // Update the output cell to use the data from the current canvas.\n",
       "    fig.push_to_output();\n",
       "    var dataURL = fig.canvas.toDataURL();\n",
       "    // Re-enable the keyboard manager in IPython - without this line, in FF,\n",
       "    // the notebook keyboard shortcuts fail.\n",
       "    IPython.keyboard_manager.enable()\n",
       "    $(fig.parent_element).html('<img src=\"' + dataURL + '\" width=\"' + width + '\">');\n",
       "    fig.close_ws(fig, msg);\n",
       "}\n",
       "\n",
       "mpl.figure.prototype.close_ws = function(fig, msg){\n",
       "    fig.send_message('closing', msg);\n",
       "    // fig.ws.close()\n",
       "}\n",
       "\n",
       "mpl.figure.prototype.push_to_output = function(remove_interactive) {\n",
       "    // Turn the data on the canvas into data in the output cell.\n",
       "    var width = this.canvas.width/mpl.ratio\n",
       "    var dataURL = this.canvas.toDataURL();\n",
       "    this.cell_info[1]['text/html'] = '<img src=\"' + dataURL + '\" width=\"' + width + '\">';\n",
       "}\n",
       "\n",
       "mpl.figure.prototype.updated_canvas_event = function() {\n",
       "    // Tell IPython that the notebook contents must change.\n",
       "    IPython.notebook.set_dirty(true);\n",
       "    this.send_message(\"ack\", {});\n",
       "    var fig = this;\n",
       "    // Wait a second, then push the new image to the DOM so\n",
       "    // that it is saved nicely (might be nice to debounce this).\n",
       "    setTimeout(function () { fig.push_to_output() }, 1000);\n",
       "}\n",
       "\n",
       "mpl.figure.prototype._init_toolbar = function() {\n",
       "    var fig = this;\n",
       "\n",
       "    var nav_element = $('<div/>');\n",
       "    nav_element.attr('style', 'width: 100%');\n",
       "    this.root.append(nav_element);\n",
       "\n",
       "    // Define a callback function for later on.\n",
       "    function toolbar_event(event) {\n",
       "        return fig.toolbar_button_onclick(event['data']);\n",
       "    }\n",
       "    function toolbar_mouse_event(event) {\n",
       "        return fig.toolbar_button_onmouseover(event['data']);\n",
       "    }\n",
       "\n",
       "    for(var toolbar_ind in mpl.toolbar_items){\n",
       "        var name = mpl.toolbar_items[toolbar_ind][0];\n",
       "        var tooltip = mpl.toolbar_items[toolbar_ind][1];\n",
       "        var image = mpl.toolbar_items[toolbar_ind][2];\n",
       "        var method_name = mpl.toolbar_items[toolbar_ind][3];\n",
       "\n",
       "        if (!name) { continue; };\n",
       "\n",
       "        var button = $('<button class=\"btn btn-default\" href=\"#\" title=\"' + name + '\"><i class=\"fa ' + image + ' fa-lg\"></i></button>');\n",
       "        button.click(method_name, toolbar_event);\n",
       "        button.mouseover(tooltip, toolbar_mouse_event);\n",
       "        nav_element.append(button);\n",
       "    }\n",
       "\n",
       "    // Add the status bar.\n",
       "    var status_bar = $('<span class=\"mpl-message\" style=\"text-align:right; float: right;\"/>');\n",
       "    nav_element.append(status_bar);\n",
       "    this.message = status_bar[0];\n",
       "\n",
       "    // Add the close button to the window.\n",
       "    var buttongrp = $('<div class=\"btn-group inline pull-right\"></div>');\n",
       "    var button = $('<button class=\"btn btn-mini btn-primary\" href=\"#\" title=\"Stop Interaction\"><i class=\"fa fa-power-off icon-remove icon-large\"></i></button>');\n",
       "    button.click(function (evt) { fig.handle_close(fig, {}); } );\n",
       "    button.mouseover('Stop Interaction', toolbar_mouse_event);\n",
       "    buttongrp.append(button);\n",
       "    var titlebar = this.root.find($('.ui-dialog-titlebar'));\n",
       "    titlebar.prepend(buttongrp);\n",
       "}\n",
       "\n",
       "mpl.figure.prototype._root_extra_style = function(el){\n",
       "    var fig = this\n",
       "    el.on(\"remove\", function(){\n",
       "\tfig.close_ws(fig, {});\n",
       "    });\n",
       "}\n",
       "\n",
       "mpl.figure.prototype._canvas_extra_style = function(el){\n",
       "    // this is important to make the div 'focusable\n",
       "    el.attr('tabindex', 0)\n",
       "    // reach out to IPython and tell the keyboard manager to turn it's self\n",
       "    // off when our div gets focus\n",
       "\n",
       "    // location in version 3\n",
       "    if (IPython.notebook.keyboard_manager) {\n",
       "        IPython.notebook.keyboard_manager.register_events(el);\n",
       "    }\n",
       "    else {\n",
       "        // location in version 2\n",
       "        IPython.keyboard_manager.register_events(el);\n",
       "    }\n",
       "\n",
       "}\n",
       "\n",
       "mpl.figure.prototype._key_event_extra = function(event, name) {\n",
       "    var manager = IPython.notebook.keyboard_manager;\n",
       "    if (!manager)\n",
       "        manager = IPython.keyboard_manager;\n",
       "\n",
       "    // Check for shift+enter\n",
       "    if (event.shiftKey && event.which == 13) {\n",
       "        this.canvas_div.blur();\n",
       "        event.shiftKey = false;\n",
       "        // Send a \"J\" for go to next cell\n",
       "        event.which = 74;\n",
       "        event.keyCode = 74;\n",
       "        manager.command_mode();\n",
       "        manager.handle_keydown(event);\n",
       "    }\n",
       "}\n",
       "\n",
       "mpl.figure.prototype.handle_save = function(fig, msg) {\n",
       "    fig.ondownload(fig, null);\n",
       "}\n",
       "\n",
       "\n",
       "mpl.find_output_cell = function(html_output) {\n",
       "    // Return the cell and output element which can be found *uniquely* in the notebook.\n",
       "    // Note - this is a bit hacky, but it is done because the \"notebook_saving.Notebook\"\n",
       "    // IPython event is triggered only after the cells have been serialised, which for\n",
       "    // our purposes (turning an active figure into a static one), is too late.\n",
       "    var cells = IPython.notebook.get_cells();\n",
       "    var ncells = cells.length;\n",
       "    for (var i=0; i<ncells; i++) {\n",
       "        var cell = cells[i];\n",
       "        if (cell.cell_type === 'code'){\n",
       "            for (var j=0; j<cell.output_area.outputs.length; j++) {\n",
       "                var data = cell.output_area.outputs[j];\n",
       "                if (data.data) {\n",
       "                    // IPython >= 3 moved mimebundle to data attribute of output\n",
       "                    data = data.data;\n",
       "                }\n",
       "                if (data['text/html'] == html_output) {\n",
       "                    return [cell, data, j];\n",
       "                }\n",
       "            }\n",
       "        }\n",
       "    }\n",
       "}\n",
       "\n",
       "// Register the function which deals with the matplotlib target/channel.\n",
       "// The kernel may be null if the page has been refreshed.\n",
       "if (IPython.notebook.kernel != null) {\n",
       "    IPython.notebook.kernel.comm_manager.register_target('matplotlib', mpl.mpl_figure_comm);\n",
       "}\n"
      ],
      "text/plain": [
       "<IPython.core.display.Javascript object>"
      ]
     },
     "metadata": {},
     "output_type": "display_data"
    },
    {
     "data": {
      "text/html": [
       "<img src=\"data:image/png;base64,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\" width=\"639.4\">"
      ],
      "text/plain": [
       "<IPython.core.display.HTML object>"
      ]
     },
     "metadata": {},
     "output_type": "display_data"
    },
    {
     "name": "stdout",
     "output_type": "stream",
     "text": [
      "Confusion matrix, without normalization\n",
      "[[525 255]\n",
      " [ 36 141]]\n",
      "\u001b[1mClassification Report\u001b[0m\n",
      "              precision    recall  f1-score   support\n",
      "\n",
      "           0       0.94      0.67      0.78       780\n",
      "           1       0.36      0.80      0.49       177\n",
      "\n",
      "    accuracy                           0.70       957\n",
      "   macro avg       0.65      0.73      0.64       957\n",
      "weighted avg       0.83      0.70      0.73       957\n",
      "\n"
     ]
    }
   ],
   "source": [
    "testing_dataset = representative_datasets[best_no_of_features-min(representative_datasets.keys())]\n",
    "\n",
    "model = model_evaluation(balanced_datasets, testing_dataset = testing_dataset, classifier = sklearn.linear_model.LogisticRegression,\n",
    "                                no_of_features = best_no_of_features, best_params = best_params,\n",
    "                                scorer = metrics.accuracy_score, seed = 0, verbose = 0)"
   ]
  },
  {
   "cell_type": "markdown",
   "metadata": {},
   "source": [
    "# <a id='use'>Use Model</a>\n",
    "## <a id='save'>Store Model</a>"
   ]
  },
  {
   "cell_type": "code",
   "execution_count": null,
   "metadata": {},
   "outputs": [],
   "source": [
    "save_model(model, best_no_of_features)"
   ]
  },
  {
   "cell_type": "markdown",
   "metadata": {},
   "source": [
    "## <a id='load'>Load Model</a>"
   ]
  },
  {
   "cell_type": "code",
   "execution_count": null,
   "metadata": {},
   "outputs": [],
   "source": [
    "model = load_model()"
   ]
  }
 ],
 "metadata": {
  "kernelspec": {
   "display_name": "Python 3",
   "language": "python",
   "name": "python3"
  },
  "language_info": {
   "codemirror_mode": {
    "name": "ipython",
    "version": 3
   },
   "file_extension": ".py",
   "mimetype": "text/x-python",
   "name": "python",
   "nbconvert_exporter": "python",
   "pygments_lexer": "ipython3",
   "version": "3.6.5"
  }
 },
 "nbformat": 4,
 "nbformat_minor": 2
}
