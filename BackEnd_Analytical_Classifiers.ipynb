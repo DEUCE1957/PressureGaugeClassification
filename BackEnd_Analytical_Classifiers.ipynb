{
 "cells": [
  {
   "cell_type": "markdown",
   "metadata": {},
   "source": [
    "#  <a id='class'> Classificaton  </a>\n",
    "### <a id='setup'>Setup:</a>"
   ]
  },
  {
   "cell_type": "code",
   "execution_count": null,
   "metadata": {},
   "outputs": [],
   "source": [
    "from scipy.optimize import curve_fit"
   ]
  },
  {
   "cell_type": "markdown",
   "metadata": {},
   "source": [
    "###  <a id='fit'>Curve fitting: </a>"
   ]
  },
  {
   "cell_type": "code",
   "execution_count": null,
   "metadata": {},
   "outputs": [],
   "source": [
    "def fit_curves(time_readings, pressure_readings, mask, verbose=False):\n",
    "    def poly(x, a,b,c,d):\n",
    "        y =  a*(x**3)+b*(x**2)+c*(x) + d\n",
    "        return y\n",
    "\n",
    "    def decay(x,a,b,c):\n",
    "        y = a*(1 - x)**b + c\n",
    "        return y\n",
    "\n",
    "    skipP,skipE = False,False\n",
    "    try:\n",
    "        popt1, pcov1 = curve_fit(poly, time_readings[mask], pressure_readings[mask])\n",
    "        poly_fit = poly(time_readings[mask], *popt1)\n",
    "    except:\n",
    "        print(\"Could not fit polynomial\")\n",
    "        skipP = True\n",
    "    try:\n",
    "        popt2, pcov2 = curve_fit(decay, time_readings[mask], pressure_readings[mask])\n",
    "        decay_fit = decay(time_readings[mask],*popt2)\n",
    "    except:\n",
    "        print(\"Could not fit exponential\")\n",
    "        skipE = True\n",
    "\n",
    "    if not skipP:\n",
    "        msq_err1 = np.mean((pressure_readings[mask]-poly_fit)**2)\n",
    "        if verbose:\n",
    "            print(\"Polynomial fit: y = %.3fx^3 + %.3fx^2 + %.3fx + %.3f\"%(popt1[0],popt1[1],popt1[2],popt1[3]))\n",
    "            print(\"MeanSqr Error Polynomial:%.4f\"%(msq_err1))\n",
    "    if not skipE:\n",
    "        msq_err2 = np.mean((pressure_readings[mask]-decay_fit)**2)\n",
    "        if verbose:\n",
    "            print(\"Decay fit: y = %.3f(1-x)^%.3f + %.3f\"%(popt2[0],popt2[1],popt2[2]))\n",
    "            print(\"MeanSqr Error Exponential:%.4f\"%(msq_err2))\n",
    "    \n",
    "    #Polynomial mean square error must be at least 10% better\n",
    "    coupled = None\n",
    "    if msq_err2 > msq_err1*1.5:\n",
    "        coupled = 1\n",
    "        print(\"Coupling Detected! \\nDifference in errors %.4f\"%(abs(msq_err2-msq_err1)))\n",
    "    else:\n",
    "        coupled = 0\n",
    "        print(\"Normal Gauge behaviour\")\n",
    "    return poly_fit,decay_fit, coupled"
   ]
  },
  {
   "cell_type": "markdown",
   "metadata": {},
   "source": [
    "### <a id='allin1'> All-In-One Curve Fitting Classifier Function </a>"
   ]
  },
  {
   "cell_type": "code",
   "execution_count": null,
   "metadata": {},
   "outputs": [],
   "source": [
    "def analytical_classifier(gauge_id, fillNumber=2216, showPlot=True, verbose=False, use_mask = True):\n",
    "    # Data Retrieval\n",
    "    pressure_readings,time_readings,beam_time,beam_energy = retrieve_gauge_data(gauge_id, fillNumber)\n",
    "    # Data Normalization\n",
    "    pressure_readings,beam_energy = normalize_y(time_readings, beam_time, pressure_readings, beam_energy)\n",
    "    # Data Interpolation\n",
    "    time_readings,pressure_readings,beam_time,beam_energy= interpolate_readings(pressure_readings, time_readings, beam_time, beam_energy)\n",
    "    \n",
    "    # Data Masking\n",
    "    if use_mask:\n",
    "        mask,threshold = double_threshold_energy_masking(time_readings,beam_time,beam_energy)\n",
    "    else:\n",
    "        mask = np.arange(0,len(pressure_readings),1)\n",
    "    \n",
    "    # Forward Fourier Transform\n",
    "    pressure_transform, spectrum,deltaT = forward_fourier_transform(time_readings,pressure_readings)\n",
    "    # Constrained Inverse Fourier Transform\n",
    "    time_constrained, signal_constrained = filtered_inverse_fourier_transform(pressure_transform,\n",
    "                                                                              deltaT, spectrum[0], 40)\n",
    "\n",
    "\n",
    "    # Curve Fitting\n",
    "    fit1,fit2, coupled = fit_curves(time_constrained,signal_constrained,mask,verbose=verbose)\n",
    "    # Plotting\n",
    "    f, ax = plot_analytical_classifier(time_readings, pressure_readings, time_constrained, signal_constrained, fit1, fit2, mask)\n",
    "    if showPlot:\n",
    "        plt.show(f)\n",
    "        \n",
    "    return f, ax, coupled"
   ]
  },
  {
   "cell_type": "markdown",
   "metadata": {},
   "source": [
    "# Analytical Classifier \\[Gradient\\]"
   ]
  },
  {
   "cell_type": "code",
   "execution_count": 1,
   "metadata": {},
   "outputs": [],
   "source": [
    "def VG_analyzer_simple(gauge_id,fillNumber,cuts=10, plot=True, all_plots=False):\n",
    "    # Data Retrieval\n",
    "    pressure_readings,time_readings,beam_time,beam_energy = retrieve_gauge_data(gauge_id,fillNumber, verbose=False,\n",
    "                                                                               show_plot=False)\n",
    "    # Data Normalization\n",
    "    pressure_readings,beam_energy = normalize_y(time_readings, beam_time, pressure_readings, beam_energy,\n",
    "                                        show_plot=False)\n",
    "    # Data Interpolation\n",
    "    time_readings,pressure_readings,beam_time,beam_energy= interpolate_readings(pressure_readings, time_readings, beam_time,\n",
    "                                                                                beam_energy, show_plot=False)\n",
    "    # Forward Fourier Transform\n",
    "    pressure_transform, spectrum,deltaT = forward_fourier_transform(time_readings,pressure_readings,\n",
    "                                                                   show_plot=False)\n",
    "    # Constrained Inverse Fourier Transform\n",
    "    time_constrained, signal_constrained = filtered_inverse_fourier_transform(pressure_transform,\n",
    "                                                                              deltaT,spectrum[0],40,\n",
    "                                                                             show_plot=False)\n",
    "    # Data Masking\n",
    "    mask,threshold = double_threshold_energy_masking(time_readings,beam_time,beam_energy,\n",
    "                                                     show_plot=False)\n",
    "    \n",
    "    levels = level_data(signal_constrained[mask], cuts=cuts)\n",
    "    \n",
    "    pressure_1st_deriv = np.diff(levels, n=1) #1st order\n",
    "    pressure_2nd_deriv = np.diff(levels, n=2) #2nd order\n",
    "    \n",
    "    if plot:\n",
    "        f, ax = plot_levelled_data(gauge_id, levels, time_readings,pressure_readings, show=plot)\n",
    "    else:\n",
    "        f, ax = None, None\n",
    "        \n",
    "    # If overall gradient is negative ==> expected behaviour\n",
    "    if np.all(pressure_1st_deriv<0):\n",
    "        print(\"Expected Behaviour\")\n",
    "        return f,ax,0\n",
    "    else:\n",
    "        print(\"Unexpected Behavour\")\n",
    "        return f,ax,1"
   ]
  },
  {
   "cell_type": "code",
   "execution_count": null,
   "metadata": {},
   "outputs": [],
   "source": []
  }
 ],
 "metadata": {
  "kernelspec": {
   "display_name": "Python 3",
   "language": "python",
   "name": "python3"
  },
  "language_info": {
   "codemirror_mode": {
    "name": "ipython",
    "version": 3
   },
   "file_extension": ".py",
   "mimetype": "text/x-python",
   "name": "python",
   "nbconvert_exporter": "python",
   "pygments_lexer": "ipython3",
   "version": "3.6.5"
  }
 },
 "nbformat": 4,
 "nbformat_minor": 2
}
