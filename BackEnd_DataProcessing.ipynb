{
 "cells": [
  {
   "cell_type": "markdown",
   "metadata": {},
   "source": [
    "# Data Processing\n",
    "Collection of functions for cleaning up raw pressure readings."
   ]
  },
  {
   "cell_type": "markdown",
   "metadata": {},
   "source": [
    "## Contents\n",
    "* [Data Retrieval](#retrieval)\n",
    "* [Normalization](#normalization)\n",
    "* [Interpolation](#interpolaton)\n",
    "* [Masking](#masking)\n",
    "* [Fourier Transform](#fft)\n",
    "* [Constrained Inverse Fourier Transform](#ifft)\n",
    "<hr>"
   ]
  },
  {
   "cell_type": "markdown",
   "metadata": {},
   "source": [
    "### <a id='retrieval'> Data retrieval </a>"
   ]
  },
  {
   "cell_type": "code",
   "execution_count": 8,
   "metadata": {},
   "outputs": [],
   "source": [
    "def retrieve_pressure_data(gauge_id,fillNumber,fill=None):   \n",
    "    fill = db.getLHCFillData(fillNumber) if fill is None else fill\n",
    "    t1, t2 = fill['startTime'], fill['endTime']\n",
    "    \n",
    "    VG = db.get(gauge_id, t1, t2) # Returns a dictionary\n",
    "    data = pd.DataFrame.from_dict(VG,dtype='float',columns=['Time Stamp','pressure'],orient='index')\n",
    "    df = pd.DataFrame()\n",
    "    pressure_readings = data[\"pressure\"][0]\n",
    "    time_readings = data[\"Time Stamp\"][0]\n",
    "    \n",
    "    return pressure_readings,time_readings\n",
    "\n"
   ]
  },
  {
   "cell_type": "code",
   "execution_count": 9,
   "metadata": {},
   "outputs": [],
   "source": [
    "def retrieve_context_data(fillNumber, fill = None):\n",
    "    fill = db.getLHCFillData(fillNumber) if fill is None else fill\n",
    "    t1, t2 = fill['startTime'], fill['endTime']\n",
    "    \n",
    "    energy_variable = 'LHC.BOFSU:OFSU_ENERGY'\n",
    "    beamEnergy=db.get(energy_variable, t1, t2)\n",
    "    beam_time, beam_energy = beamEnergy[energy_variable]\n",
    "    \n",
    "    return beam_time, beam_energy\n"
   ]
  },
  {
   "cell_type": "code",
   "execution_count": null,
   "metadata": {},
   "outputs": [],
   "source": [
    "def retrieve_gauge_data(gauge_id,fillNumber,verbose=False, show_plot=False):   \n",
    "    model,eq_code,location,side,pressure = gauge_id.split(\".\")\n",
    "    if verbose:\n",
    "        print(\"%s.%s.%s.%s.%s\"%(model,eq_code,location,side,pressure))\n",
    "        \n",
    "    fill = db.getLHCFillData(fillNumber)\n",
    "    t1, t2 = fill['startTime'], fill['endTime']\n",
    "    \n",
    "    beam_time, beam_energy = retrieve_context_data(fillNumber,fill=fill)\n",
    "    \n",
    "    pressure_readings,time_readings = retrieve_pressure_data(gauge_id, fillNumber)\n",
    "\n",
    "    \n",
    "    if show_plot:\n",
    "        f, ax = plt.subplots(1,figsize=(7,5))\n",
    "        advancedPlottingUtility(axes=[ax],axis_index=0,\n",
    "                                    xs=[time_readings, beam_time],ys=[pressure_readings, beam_energy],\n",
    "                                    time_x=True,\n",
    "                                    plot_labels=(gauge_id,'LHC.BOFSU:OFSU_ENERGY'),\n",
    "                                    axis_labels=(\"Time Stamp\",\"Pressure (mbar)\", \"Energy (GeV)\"),\n",
    "                                    title = \"\")\n",
    "    return pressure_readings, time_readings, beam_time, beam_energy\n"
   ]
  },
  {
   "cell_type": "markdown",
   "metadata": {},
   "source": [
    "### <a id='normalization'> Normalization </a>"
   ]
  },
  {
   "cell_type": "code",
   "execution_count": 10,
   "metadata": {},
   "outputs": [],
   "source": [
    "def normalize_y(time_readings, beam_time, pressure_readings, beam_energy, show_plot=False):\n",
    "    if  np.max(pressure_readings) - np.min(pressure_readings) != 1: #is not normalized already\n",
    "        norm_pressure_readings = ( pressure_readings - np.min(pressure_readings) ) /  ( np.max(pressure_readings) - np.min(pressure_readings))\n",
    "\n",
    "    if  np.max(beam_energy) - np.min(beam_energy) != 1: #is not normalized already\n",
    "        norm_beam_energy = ( beam_energy - np.min(beam_energy) ) /  ( np.max(beam_energy) - np.min(beam_energy))\n",
    "        \n",
    "    if show_plot:\n",
    "        f, ax = plt.subplots(1,figsize=(7,5))\n",
    "        advancedPlottingUtility(axes=[ax],axis_index=0,\n",
    "                                xs=[time_readings,beam_time],ys=[norm_pressure_readings,norm_beam_energy],\n",
    "                                time_x=True,\n",
    "                                plot_labels=(\"Vacuum Gauge\",\"Beam Energy\"),\n",
    "                                axis_labels=(\"Time Stamp\",\"Norm. Pressure\",\"Norm. Energy\"),\n",
    "                                title=\"Data Normalizaton\")\n",
    "    return norm_pressure_readings,norm_beam_energy\n"
   ]
  },
  {
   "cell_type": "markdown",
   "metadata": {},
   "source": [
    "### <a id='interpolaton'> Interpolation </a>"
   ]
  },
  {
   "cell_type": "code",
   "execution_count": 11,
   "metadata": {},
   "outputs": [],
   "source": [
    "def interpolate_readings(pressure_readings, time_readings, beam_time, beam_energy, density_fact=3, fixed_series_size = None, verbose=False, show_plot = False):\n",
    "    # Vacuum Gauge\n",
    "    if fixed_series_size is None:\n",
    "        t = np.linspace(time_readings[0], time_readings[-1], density_fact*len(time_readings))\n",
    "    else:\n",
    "        t = np.linspace(time_readings[0], time_readings[-1], fixed_series_size)\n",
    "    if verbose:\n",
    "        print(\"t {}, time_readings {}, pressure_readings {}\".format(t.shape,time_readings.shape,pressure_readings.shape))\n",
    "        \n",
    "    pressure_readings = np.interp(t, time_readings, pressure_readings)\n",
    "    # Beam Intensity\n",
    "    t2 = np.linspace(beam_time[0], beam_time[-1], density_fact*len(time_readings))\n",
    "    beam_energy = np.interp(t2, beam_time, beam_energy)\n",
    "\n",
    "    time_readings = np.linspace(0,1,len(t))\n",
    "    beam_time = np.linspace(0,1,len(t2))\n",
    "    \n",
    "    if show_plot:\n",
    "        simplePlottingUtility(time_readings,pressure_readings,\"Normalized time\", \"Normalized Pressure\",\n",
    "                          legend_labels=\"Pressure Readings\",\n",
    "                          title=\"Interpolation\")\n",
    "    return time_readings,pressure_readings,beam_time,beam_energy\n",
    "\n"
   ]
  },
  {
   "cell_type": "markdown",
   "metadata": {},
   "source": [
    "### <a id='masking'> Masking </a>"
   ]
  },
  {
   "cell_type": "code",
   "execution_count": 12,
   "metadata": {},
   "outputs": [],
   "source": [
    "def double_threshold_energy_masking(time_readings, beam_time,\n",
    "                       beam_energy,\n",
    "                       min_distance_frac=0.1,\n",
    "                       lower_thres = 0.6, upper_thres = 0.9,\n",
    "                       gradient_thres = 4e-06,\n",
    "                       verbose = False,\n",
    "                       show_plot=False):\n",
    "    gradient = np.gradient(beam_energy)\n",
    "    min_distance = int(round((min_distance_frac * len(beam_energy))))\n",
    "    in_critical_region = False\n",
    "    triggered = False\n",
    "    cut_off = None\n",
    "    for i in range(0,len(beam_energy)):\n",
    "        if in_critical_region:\n",
    "            if beam_energy[i] < lower_thres:\n",
    "                in_critical_region = False\n",
    "            elif beam_energy[i] > upper_thres:\n",
    "                if verbose:\n",
    "                    print(\"TRIGGERED at idx:{},val:{}\".format(i,beam_energy[i]))\n",
    "                in_critical_region = False\n",
    "                triggered = True\n",
    "            else:\n",
    "                pass\n",
    "        elif beam_energy[i] > lower_thres and beam_energy[i] < upper_thres:\n",
    "            # print(\"Entering Critical Region at Index {} with Value {}\".format(i,beam_energy[i]))\n",
    "            in_critical_region = True\n",
    "        else:\n",
    "            pass\n",
    "        \n",
    "        if triggered:\n",
    "            # Explore region to right, find maximum by change in gradient\n",
    "            candidate = None\n",
    "            j = i\n",
    "            while candidate is None and j<=len(beam_energy):\n",
    "                if np.mean(gradient[j:j+10]) <= gradient_thres:\n",
    "                    candidate = j-1\n",
    "                j+=1\n",
    "            if candidate is not None:\n",
    "                if verbose:\n",
    "                    print(\"Candidate at index {}/{} with value {}\".format(candidate,len(beam_energy),beam_energy[candidate]))\n",
    "                if np.all(beam_energy[candidate:candidate+min_distance]>upper_thres):\n",
    "                    cut_off = beam_time[candidate]\n",
    "                    mask = time_readings > cut_off\n",
    "                    if show_plot:\n",
    "                        simplePlottingUtility(beam_time,beam_energy,\"Normalized time\", \"Normalized Energy\",\n",
    "                                      legend_labels=\"Beam Energy\",\n",
    "                                      title=\"Masking\",\n",
    "                                      vertical_line=cut_off)\n",
    "                        print(\"Could not find appropriate cut-off\")\n",
    "                    return mask, cut_off\n",
    "            triggered = False\n",
    "            \n",
    "\n",
    "    return None, None\n"
   ]
  },
  {
   "cell_type": "markdown",
   "metadata": {},
   "source": [
    "### <a id='fft'> Forward Fourier Transform </a>"
   ]
  },
  {
   "cell_type": "code",
   "execution_count": 13,
   "metadata": {},
   "outputs": [],
   "source": [
    "def forward_fourier_transform(time_readings,pressure_readings, show_plot=False):\n",
    "    # Time Spacing (sampling step)\n",
    "    deltaT= time_readings[2] - time_readings[1]\n",
    "    # In frequency we have a periodic signal of period fc\n",
    "    fc=1/deltaT  \n",
    "    pressure_transform=np.fft.fft(pressure_readings,len(pressure_readings)) #fast fourier transform\n",
    "    pressure_transform=np.fft.fftshift(pressure_transform)\n",
    "    pressure_transform=pressure_transform*deltaT\n",
    "    # Frequency spacing\n",
    "    deltaF=fc/len(pressure_readings)\n",
    "\n",
    "    # We are interested only in the range between -fc/2 and fc/2 ( In particular (0,fc/2) beacouse x is real\n",
    "    f = np.linspace(-fc/2, fc/2 - deltaF, len(pressure_transform)) # Vector of K point from min_value to max_value (Domain in frequency)\n",
    "    spectrum=[f, np.abs(pressure_transform)]\n",
    "    \n",
    "    if show_plot:\n",
    "        fig,ax = plt.subplots(1,figsize=(7,5))\n",
    "        advancedPlottingUtility(axes=[ax],axis_index=0,\n",
    "                        xs=[spectrum[0]],ys=[pressure_transform],\n",
    "                        plot_labels=(\"Fourier Transformed Signal\"),\n",
    "                        axis_labels=(\"Frequency\",\"Amplitude\"),\n",
    "                        title=\"Forward Fourier Transform\")\n",
    "        \n",
    "    return pressure_transform, spectrum, deltaT\n"
   ]
  },
  {
   "cell_type": "markdown",
   "metadata": {},
   "source": [
    "### <a id='ifft'> Filtered Inverse Fourier Transform </a>"
   ]
  },
  {
   "cell_type": "code",
   "execution_count": 14,
   "metadata": {},
   "outputs": [],
   "source": [
    "def filtered_inverse_fourier_transform(pressure_transform,deltaT,f,threshold, show_plot = False):\n",
    "    f_mask = (f < -threshold) | (f > threshold) \n",
    "    filtered_frequencies= f[f_mask]\n",
    "    pressure_transform[f_mask] = 0\n",
    "\n",
    "    # Constrained inverse fourier transform, wo. higher order terms\n",
    "    signal_constrained = np.copy(pressure_transform)\n",
    "    signal_constrained = signal_constrained/deltaT\n",
    "    signal_constrained = np.fft.ifftshift(signal_constrained)\n",
    "    signal_constrained = np.fft.ifft(signal_constrained,len(signal_constrained))\n",
    "    time_constrained = np.linspace(0,1,len(signal_constrained))\n",
    "    \n",
    "    if show_plot:\n",
    "        fig,ax = plt.subplots(1,figsize=(7,5))\n",
    "        advancedPlottingUtility(axes=[ax],axis_index=0,\n",
    "                        xs=[time_constrained.real],ys=[signal_constrained.real],\n",
    "                        plot_labels=(\"Fourier Transformed Signal\"),\n",
    "                        axis_labels=(\"Time\",\"Pressure\"),\n",
    "                        title=\"Noise reduction after filtered inverse FFT\")\n",
    "        \n",
    "    return time_constrained.real, signal_constrained.real\n"
   ]
  },
  {
   "cell_type": "markdown",
   "metadata": {},
   "source": [
    "## <a id='level'> Bin the Data </a>\n",
    "Split data into segments and return their averages "
   ]
  },
  {
   "cell_type": "code",
   "execution_count": 15,
   "metadata": {},
   "outputs": [],
   "source": [
    "def bin_data(data, bins=4):\n",
    "    segments = np.array_split(data, indices_or_sections=bins)\n",
    "    if len(data)%bins == 0:\n",
    "        return np.mean(segments,axis=1)\n",
    "    else:\n",
    "        segment_means = np.mean(segments[:len(data)%bins],axis=1)\n",
    "        remaining_means = np.mean(segments[len(data)%bins:],axis=1)\n",
    "        segment_means = np.concatenate((segment_means,remaining_means),axis=0)\n",
    "    return segment_means\n"
   ]
  },
  {
   "cell_type": "markdown",
   "metadata": {},
   "source": [
    "## <a id=serializeData> Serialization </a>\n",
    "Store data in a compressed format"
   ]
  },
  {
   "cell_type": "code",
   "execution_count": 16,
   "metadata": {},
   "outputs": [],
   "source": [
    "# class processed_gauge_data(object):\n",
    " \n",
    "#     def __init__(self, gauge_id, fill_no, **kwargs): #time_readings, norm_pressure_readings, beam_intensity, beam_time, mask, pressure_levels, gauge_id, fill_no):\n",
    "#         self.gauge_id = gauge_id\n",
    "#         self.fill_no = fill_no\n",
    "#         self.__dict__.update(kwargs)\n",
    "        \n",
    "        \n",
    "#     def generate_data(self,get_levels=True,cuts=8):\n",
    "#         raw_beam_time,raw_beam_energy = retrieve_context_data(self.fill_no)\n",
    "#         raw_pressure_readings,raw_time_readings = retrieve_gauge_data(self.gauge_id,self.fill_no)\n",
    "        \n",
    "#         if self.raw_pressure_readings.size == 0 or self.raw_time_readings.size == 0:\n",
    "#             return None\n",
    "        \n",
    "#         self.pressure_readings,self.beam_energy = normalize_y(self.raw_time_readings,\n",
    "#                                                               self.raw_beam_time,\n",
    "#                                                               self.raw_pressure_readings,\n",
    "#                                                               self.raw_beam_energy)\n",
    "        \n",
    "#         self.time_readings,self.pressure_readings,self.beam_time,self.beam_energy = interpolate_readings(self.pressure_readings,\n",
    "#                                                                                                         self.raw_time_readings,\n",
    "#                                                                                                         self.raw_beam_time,\n",
    "#                                                                                                         self.beam_energy,\n",
    "#                                                                                                         density_fact=27)\n",
    "        \n",
    "#         self.mask,self.threshold = double_threshold_energy_masking(self.time_readings,\n",
    "#                                                 self.beam_time,\n",
    "#                                                 self.beam_energy)\n",
    "#         if self.mask is None or self.threshold is None:\n",
    "#             raise RuntimeError(\"Object initialization incomplete, could not load mask\")\n",
    "#         if get_levels:\n",
    "#             return level_data(self.pressure_readings[self.mask],cuts)\n",
    "        \n",
    "#     def __str__(self):\n",
    "#         string = \"\"\n",
    "#         for key, value in self.__dict__.items():\n",
    "#             if isinstance(value, numpy.ndarray):\n",
    "#                 string += \"%s:\\n %s...\\n\"%(key,value[0:min(4,value.shape[0])])\n",
    "#             elif isinstance(value,float):\n",
    "#                 string += \"%s:\\n %.3f\\n\"%(key,value)\n",
    "#             else:\n",
    "#                 string += \"%s:\\n %s\\n\"%(key,value)\n",
    "#         return string"
   ]
  },
  {
   "cell_type": "code",
   "execution_count": 1,
   "metadata": {},
   "outputs": [],
   "source": [
    "class processed_gauge_data(object):\n",
    " \n",
    "    def __init__(self, gauge_id, fill_no, **kwargs):\n",
    "        self.gauge_id = gauge_id\n",
    "        self.fill_no = fill_no\n",
    "        self.__dict__.update(kwargs) # Initialize with other information\n",
    "        \n",
    "        \n",
    "    def generate_data(self, bins = None, f_threshold = 40):\n",
    "        \n",
    "        if \"raw_beam_time\" not in self.__dict__ or \"raw_beam_energy\" not in self.__dict__:\n",
    "            raw_beam_time,raw_beam_energy = retrieve_context_data(self.fill_no)\n",
    "        else: \n",
    "            raw_beam_time,raw_beam_energy = self.raw_beam_time,self.raw_beam_energy\n",
    "        if \"raw_pressure_readings\" not in self.__dict__ or \"raw_time_readings\" not in self.__dict__:\n",
    "            raw_pressure_readings,raw_time_readings = retrieve_pressure_data(self.gauge_id,self.fill_no)\n",
    "        else:\n",
    "            raw_pressure_readings,raw_time_readings = self.raw_pressure_readings,self.raw_time_readings\n",
    "\n",
    "        pressure_readings, beam_energy = normalize_y(raw_time_readings, raw_beam_time, raw_pressure_readings, raw_beam_energy)\n",
    "\n",
    "        time_readings, pressure_readings, beam_time, beam_energy = interpolate_readings(pressure_readings, raw_time_readings, raw_beam_time, beam_energy)\n",
    "\n",
    "        mask, cut_off = double_threshold_energy_masking(time_readings, beam_time, beam_energy)\n",
    "        if mask is None:\n",
    "            raise ValueError(\"Could not determine mask, data may be too sparse\")\n",
    "        \n",
    "        pressure_transform, spectrum, deltaT = forward_fourier_transform(time_readings,pressure_readings)\n",
    "\n",
    "        time_smooth, pressure_smooth = filtered_inverse_fourier_transform(pressure_transform,deltaT,spectrum[0],threshold=f_threshold)\n",
    "\n",
    "        for attribute in dir(): # Prevents overwritting of any **kwargs provided in Init\n",
    "            if attribute not in self.__dict__ and attribute != \"self\":\n",
    "                setattr(self, attribute, locals()[attribute]) \n",
    "        \n",
    "        if bins is not None:\n",
    "            return bin_data(self.pressure_readings[self.mask],bins)\n",
    "\n",
    "    def __str__(self):\n",
    "        string = \">>>Processed Gauge Data Object<<<\\n\"\n",
    "        print(self.__dict__)\n",
    "        for key, value in self.__dict__.items():\n",
    "            #print(key,value,\"\\n\")\n",
    "            if isinstance(value, np.ndarray):\n",
    "                string += \"%s:\\n %s...\\n\"%(key,value[0:min(4,value.shape[0])])\n",
    "            elif isinstance(value,float):\n",
    "                string += \"%s:\\n %.3f\\n\"%(key,value)\n",
    "            else:\n",
    "                string += \"%s:\\n %s\\n\"%(key,value)\n",
    "        return string"
   ]
  },
  {
   "cell_type": "code",
   "execution_count": 19,
   "metadata": {
    "scrolled": true
   },
   "outputs": [
    {
     "name": "stderr",
     "output_type": "stream",
     "text": [
      "WARNING:cmmnbuild_dep_manager:JVM is already started\n"
     ]
    },
    {
     "name": "stdout",
     "output_type": "stream",
     "text": [
      "t (3183,), time_readings (1061,), pressure_readings (1061,)\n",
      "{'gauge_id': 'VGPB.418.6L3.B.PR', 'fill_no': 2216, 'beam_energy': array([0.99987183, 0.99670277, 0.98952449, ..., 0.97907458, 0.97919955,\n",
      "       1.        ]), 'beam_time': array([0.00000000e+00, 3.14267756e-04, 6.28535512e-04, ...,\n",
      "       9.99371464e-01, 9.99685732e-01, 1.00000000e+00]), 'cut_off': 0.27592708988057824, 'cuts': 8, 'deltaT': 0.00031426775612822125, 'f_threshold': 40, 'get_levels': True, 'mask': array([False, False, False, ...,  True,  True,  True]), 'pressure_readings': array([0.12195122, 0.12941716, 0.13688309, ..., 0.03536573, 0.03231701,\n",
      "       0.02926829]), 'pressure_smooth': array([0.11855835, 0.11996802, 0.12126715, ..., 0.11369961, 0.11542043,\n",
      "       0.11704131]), 'pressure_transform': array([0.+0.j, 0.+0.j, 0.+0.j, ..., 0.+0.j, 0.+0.j, 0.+0.j]), 'raw_beam_energy': array([3565.8, 3565.3, 3564.7, ..., 3564.4, 3565.7, 3566.2]), 'raw_beam_time': array([1.31864667e+09, 1.31864667e+09, 1.31864667e+09, ...,\n",
      "       1.31870616e+09, 1.31870616e+09, 1.31870616e+09]), 'raw_pressure_readings': array([4.0e-10, 4.4e-10, 4.9e-10, ..., 2.7e-10, 2.4e-10, 2.1e-10]), 'raw_time_readings': array([1.31864652e+09, 1.31864657e+09, 1.31864660e+09, ...,\n",
      "       1.31870604e+09, 1.31870609e+09, 1.31870618e+09]), 'spectrum': [array([-1591.        , -1590.00031417, -1589.00062834, ...,\n",
      "        1588.00094251,  1589.00062834,  1590.00031417]), array([0.00013958, 0.00012409, 0.00010549, ..., 0.00010549, 0.00012409,\n",
      "       0.00013958])], 'time_readings': array([0.00000000e+00, 3.14267756e-04, 6.28535512e-04, ...,\n",
      "       9.99371464e-01, 9.99685732e-01, 1.00000000e+00]), 'time_smooth': array([0.00000000e+00, 3.14267756e-04, 6.28535512e-04, ...,\n",
      "       9.99371464e-01, 9.99685732e-01, 1.00000000e+00])}\n",
      ">>>Processed Gauge Data Object<<<\n",
      "gauge_id:\n",
      " VGPB.418.6L3.B.PR\n",
      "fill_no:\n",
      " 2216\n",
      "beam_energy:\n",
      " [0.99987183 0.99670277 0.98952449 0.97833763]...\n",
      "beam_time:\n",
      " [0.         0.00031427 0.00062854 0.0009428 ]...\n",
      "cut_off:\n",
      " 0.276\n",
      "cuts:\n",
      " 8\n",
      "deltaT:\n",
      " 0.000\n",
      "f_threshold:\n",
      " 40\n",
      "get_levels:\n",
      " True\n",
      "mask:\n",
      " [False False False False]...\n",
      "pressure_readings:\n",
      " [0.12195122 0.12941716 0.13688309 0.14949702]...\n",
      "pressure_smooth:\n",
      " [0.11855835 0.11996802 0.12126715 0.12245295]...\n",
      "pressure_transform:\n",
      " [0.+0.j 0.+0.j 0.+0.j 0.+0.j]...\n",
      "raw_beam_energy:\n",
      " [3565.8 3565.3 3564.7 3563.9]...\n",
      "raw_beam_time:\n",
      " [1.31864667e+09 1.31864667e+09 1.31864667e+09 1.31864667e+09]...\n",
      "raw_pressure_readings:\n",
      " [4.0e-10 4.4e-10 4.9e-10 5.4e-10]...\n",
      "raw_time_readings:\n",
      " [1.31864652e+09 1.31864657e+09 1.31864660e+09 1.31864661e+09]...\n",
      "spectrum:\n",
      " [array([-1591.        , -1590.00031417, -1589.00062834, ...,\n",
      "        1588.00094251,  1589.00062834,  1590.00031417]), array([0.00013958, 0.00012409, 0.00010549, ..., 0.00010549, 0.00012409,\n",
      "       0.00013958])]\n",
      "time_readings:\n",
      " [0.         0.00031427 0.00062854 0.0009428 ]...\n",
      "time_smooth:\n",
      " [0.         0.00031427 0.00062854 0.0009428 ]...\n",
      "\n"
     ]
    }
   ],
   "source": [
    "# import pytimber\n",
    "# import pandas as pd\n",
    "# import numpy as np\n",
    "# db = pytimber.LoggingDB()\n",
    "# pgd = processed_gauge_data2(\"VGPB.418.6L3.B.PR\",2216)\n",
    "# pgd.generate_data()\n",
    "\n",
    "# print(\"{}\".format(pgd))"
   ]
  },
  {
   "cell_type": "code",
   "execution_count": null,
   "metadata": {},
   "outputs": [],
   "source": []
  }
 ],
 "metadata": {
  "kernelspec": {
   "display_name": "Python 3",
   "language": "python",
   "name": "python3"
  },
  "language_info": {
   "codemirror_mode": {
    "name": "ipython",
    "version": 3
   },
   "file_extension": ".py",
   "mimetype": "text/x-python",
   "name": "python",
   "nbconvert_exporter": "python",
   "pygments_lexer": "ipython3",
   "version": "3.6.5"
  }
 },
 "nbformat": 4,
 "nbformat_minor": 2
}
